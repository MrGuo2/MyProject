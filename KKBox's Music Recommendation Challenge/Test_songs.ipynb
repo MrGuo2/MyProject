{
 "cells": [
  {
   "cell_type": "markdown",
   "metadata": {},
   "source": [
    "### 读取数据"
   ]
  },
  {
   "cell_type": "code",
   "execution_count": 1,
   "metadata": {},
   "outputs": [],
   "source": [
    "import pandas as pd\n",
    "import numpy as np\n",
    "from sklearn.preprocessing import LabelEncoder\n",
    "import pickle"
   ]
  },
  {
   "cell_type": "code",
   "execution_count": 2,
   "metadata": {},
   "outputs": [
    {
     "name": "stdout",
     "output_type": "stream",
     "text": [
      "Iteration is stopped.\n",
      "2556790\n"
     ]
    }
   ],
   "source": [
    "# 读取数据test数据集\n",
    "dpath = \"../Data/\"\n",
    "testTemp = pd.read_csv(dpath+\"test.csv\", iterator=True)\n",
    "# 设置分块参数\n",
    "loop = True\n",
    "chunkSize = 100000\n",
    "chunks = []\n",
    "\n",
    "while loop:\n",
    "    try:\n",
    "        chunk = testTemp.get_chunk(chunkSize)\n",
    "        chunks.append(chunk)\n",
    "    except StopIteration:\n",
    "        loop = False\n",
    "        print(\"Iteration is stopped.\")\n",
    "test = pd.concat(chunks, ignore_index=True)\n",
    "print(len(test))"
   ]
  },
  {
   "cell_type": "code",
   "execution_count": 3,
   "metadata": {},
   "outputs": [
    {
     "name": "stdout",
     "output_type": "stream",
     "text": [
      "2296320\n"
     ]
    }
   ],
   "source": [
    "# 读取songs数据集\n",
    "songs = pd.read_csv(dpath+\"songs.csv\")\n",
    "print(len(songs))"
   ]
  },
  {
   "cell_type": "code",
   "execution_count": 4,
   "metadata": {},
   "outputs": [
    {
     "data": {
      "text/html": [
       "<div>\n",
       "<style scoped>\n",
       "    .dataframe tbody tr th:only-of-type {\n",
       "        vertical-align: middle;\n",
       "    }\n",
       "\n",
       "    .dataframe tbody tr th {\n",
       "        vertical-align: top;\n",
       "    }\n",
       "\n",
       "    .dataframe thead th {\n",
       "        text-align: right;\n",
       "    }\n",
       "</style>\n",
       "<table border=\"1\" class=\"dataframe\">\n",
       "  <thead>\n",
       "    <tr style=\"text-align: right;\">\n",
       "      <th></th>\n",
       "      <th>msno</th>\n",
       "      <th>song_id</th>\n",
       "      <th>source_system_tab</th>\n",
       "      <th>source_screen_name</th>\n",
       "      <th>source_type</th>\n",
       "      <th>song_length</th>\n",
       "      <th>genre_ids</th>\n",
       "      <th>artist_name</th>\n",
       "      <th>composer</th>\n",
       "      <th>lyricist</th>\n",
       "      <th>language</th>\n",
       "    </tr>\n",
       "  </thead>\n",
       "  <tbody>\n",
       "    <tr>\n",
       "      <th>0</th>\n",
       "      <td>V8ruy7SGk7tDm3zA51DPpn6qutt+vmKMBKa21dp54uM=</td>\n",
       "      <td>WmHKgKMlp1lQMecNdNvDMkvIycZYHnFwDT72I5sIssc=</td>\n",
       "      <td>my library</td>\n",
       "      <td>Local playlist more</td>\n",
       "      <td>local-library</td>\n",
       "      <td>224130.0</td>\n",
       "      <td>458</td>\n",
       "      <td>梁文音 (Rachel Liang)</td>\n",
       "      <td>Qi Zheng Zhang</td>\n",
       "      <td>NaN</td>\n",
       "      <td>3.0</td>\n",
       "    </tr>\n",
       "    <tr>\n",
       "      <th>1</th>\n",
       "      <td>mp5bRgC7VAhEpWlAiOn4jG8CD9FJZt7725f93t5i99M=</td>\n",
       "      <td>WmHKgKMlp1lQMecNdNvDMkvIycZYHnFwDT72I5sIssc=</td>\n",
       "      <td>my library</td>\n",
       "      <td>Search</td>\n",
       "      <td>song</td>\n",
       "      <td>224130.0</td>\n",
       "      <td>458</td>\n",
       "      <td>梁文音 (Rachel Liang)</td>\n",
       "      <td>Qi Zheng Zhang</td>\n",
       "      <td>NaN</td>\n",
       "      <td>3.0</td>\n",
       "    </tr>\n",
       "    <tr>\n",
       "      <th>2</th>\n",
       "      <td>NSBR1BrOO3XDapGQCMi19nRidHD4qzoEXbGGnBap/e0=</td>\n",
       "      <td>WmHKgKMlp1lQMecNdNvDMkvIycZYHnFwDT72I5sIssc=</td>\n",
       "      <td>my library</td>\n",
       "      <td>Local playlist more</td>\n",
       "      <td>local-playlist</td>\n",
       "      <td>224130.0</td>\n",
       "      <td>458</td>\n",
       "      <td>梁文音 (Rachel Liang)</td>\n",
       "      <td>Qi Zheng Zhang</td>\n",
       "      <td>NaN</td>\n",
       "      <td>3.0</td>\n",
       "    </tr>\n",
       "    <tr>\n",
       "      <th>3</th>\n",
       "      <td>kvRxHi514EY2/4FzahC/vBf/Zn13/3ZwXweeepjewzk=</td>\n",
       "      <td>WmHKgKMlp1lQMecNdNvDMkvIycZYHnFwDT72I5sIssc=</td>\n",
       "      <td>my library</td>\n",
       "      <td>Local playlist more</td>\n",
       "      <td>local-playlist</td>\n",
       "      <td>224130.0</td>\n",
       "      <td>458</td>\n",
       "      <td>梁文音 (Rachel Liang)</td>\n",
       "      <td>Qi Zheng Zhang</td>\n",
       "      <td>NaN</td>\n",
       "      <td>3.0</td>\n",
       "    </tr>\n",
       "    <tr>\n",
       "      <th>4</th>\n",
       "      <td>Qh0RP1Refm1D6eV5PjusX+agjnNczGUR8eeWBGj3UvU=</td>\n",
       "      <td>WmHKgKMlp1lQMecNdNvDMkvIycZYHnFwDT72I5sIssc=</td>\n",
       "      <td>my library</td>\n",
       "      <td>Local playlist more</td>\n",
       "      <td>local-playlist</td>\n",
       "      <td>224130.0</td>\n",
       "      <td>458</td>\n",
       "      <td>梁文音 (Rachel Liang)</td>\n",
       "      <td>Qi Zheng Zhang</td>\n",
       "      <td>NaN</td>\n",
       "      <td>3.0</td>\n",
       "    </tr>\n",
       "  </tbody>\n",
       "</table>\n",
       "</div>"
      ],
      "text/plain": [
       "                                           msno  \\\n",
       "0  V8ruy7SGk7tDm3zA51DPpn6qutt+vmKMBKa21dp54uM=   \n",
       "1  mp5bRgC7VAhEpWlAiOn4jG8CD9FJZt7725f93t5i99M=   \n",
       "2  NSBR1BrOO3XDapGQCMi19nRidHD4qzoEXbGGnBap/e0=   \n",
       "3  kvRxHi514EY2/4FzahC/vBf/Zn13/3ZwXweeepjewzk=   \n",
       "4  Qh0RP1Refm1D6eV5PjusX+agjnNczGUR8eeWBGj3UvU=   \n",
       "\n",
       "                                        song_id source_system_tab  \\\n",
       "0  WmHKgKMlp1lQMecNdNvDMkvIycZYHnFwDT72I5sIssc=        my library   \n",
       "1  WmHKgKMlp1lQMecNdNvDMkvIycZYHnFwDT72I5sIssc=        my library   \n",
       "2  WmHKgKMlp1lQMecNdNvDMkvIycZYHnFwDT72I5sIssc=        my library   \n",
       "3  WmHKgKMlp1lQMecNdNvDMkvIycZYHnFwDT72I5sIssc=        my library   \n",
       "4  WmHKgKMlp1lQMecNdNvDMkvIycZYHnFwDT72I5sIssc=        my library   \n",
       "\n",
       "    source_screen_name     source_type  song_length genre_ids  \\\n",
       "0  Local playlist more   local-library     224130.0       458   \n",
       "1               Search            song     224130.0       458   \n",
       "2  Local playlist more  local-playlist     224130.0       458   \n",
       "3  Local playlist more  local-playlist     224130.0       458   \n",
       "4  Local playlist more  local-playlist     224130.0       458   \n",
       "\n",
       "          artist_name        composer lyricist  language  \n",
       "0  梁文音 (Rachel Liang)  Qi Zheng Zhang      NaN       3.0  \n",
       "1  梁文音 (Rachel Liang)  Qi Zheng Zhang      NaN       3.0  \n",
       "2  梁文音 (Rachel Liang)  Qi Zheng Zhang      NaN       3.0  \n",
       "3  梁文音 (Rachel Liang)  Qi Zheng Zhang      NaN       3.0  \n",
       "4  梁文音 (Rachel Liang)  Qi Zheng Zhang      NaN       3.0  "
      ]
     },
     "execution_count": 4,
     "metadata": {},
     "output_type": "execute_result"
    }
   ],
   "source": [
    "test_songs = pd.merge(test, songs, how=\"outer\")\n",
    "test_songs = test_songs.drop([\"id\"], axis=1)\n",
    "test_songs.head()"
   ]
  },
  {
   "cell_type": "code",
   "execution_count": 5,
   "metadata": {},
   "outputs": [
    {
     "name": "stdout",
     "output_type": "stream",
     "text": [
      "<class 'pandas.core.frame.DataFrame'>\n",
      "Int64Index: 4628371 entries, 0 to 4628370\n",
      "Data columns (total 11 columns):\n",
      "msno                  object\n",
      "song_id               object\n",
      "source_system_tab     object\n",
      "source_screen_name    object\n",
      "source_type           object\n",
      "song_length           float64\n",
      "genre_ids             object\n",
      "artist_name           object\n",
      "composer              object\n",
      "lyricist              object\n",
      "language              float64\n",
      "dtypes: float64(2), object(9)\n",
      "memory usage: 423.7+ MB\n"
     ]
    }
   ],
   "source": [
    "test_songs.info()"
   ]
  },
  {
   "cell_type": "code",
   "execution_count": 6,
   "metadata": {},
   "outputs": [
    {
     "name": "stdout",
     "output_type": "stream",
     "text": [
      "msno                  2071581\n",
      "song_id                     0\n",
      "source_system_tab     2080023\n",
      "source_screen_name    2234464\n",
      "source_type           2078878\n",
      "song_length                25\n",
      "genre_ids              132345\n",
      "artist_name                25\n",
      "composer              1595714\n",
      "lyricist              3008577\n",
      "language                   42\n",
      "dtype: int64\n"
     ]
    }
   ],
   "source": [
    "print(test_songs.isnull().sum())"
   ]
  },
  {
   "cell_type": "markdown",
   "metadata": {},
   "source": [
    "### 清理数目比较少的空值"
   ]
  },
  {
   "cell_type": "code",
   "execution_count": 7,
   "metadata": {},
   "outputs": [
    {
     "name": "stdout",
     "output_type": "stream",
     "text": [
      "msno                  2071581\n",
      "song_id                     0\n",
      "source_system_tab     2080023\n",
      "source_screen_name    2234461\n",
      "source_type           2078878\n",
      "song_length                 0\n",
      "genre_ids              132320\n",
      "artist_name                 0\n",
      "language                    0\n",
      "dtype: int64\n"
     ]
    },
    {
     "data": {
      "text/plain": [
       "4628329"
      ]
     },
     "execution_count": 7,
     "metadata": {},
     "output_type": "execute_result"
    }
   ],
   "source": [
    "filterData = ['song_length', 'artist_name', 'language']\n",
    "TestSongs = test_songs.dropna(subset = filterData)\n",
    "TestSongs = TestSongs.drop([\"composer\", \"lyricist\"], axis=1) #其实测试数据中composer缺失值不算多\n",
    "print(TestSongs.isnull().sum())\n",
    "len(TestSongs)"
   ]
  },
  {
   "cell_type": "markdown",
   "metadata": {},
   "source": [
    "### 将数目比较少的变量进行合并"
   ]
  },
  {
   "cell_type": "code",
   "execution_count": 8,
   "metadata": {
    "scrolled": true
   },
   "outputs": [
    {
     "data": {
      "text/plain": [
       "465                   1693901\n",
       "458                    389468\n",
       "1609                   269344\n",
       "921                    248757\n",
       "2022                   211722\n",
       "958                    190868\n",
       "2122                   160782\n",
       "1259                   156975\n",
       "444                    100642\n",
       "359                     84288\n",
       "139                     56805\n",
       "786                     52985\n",
       "1152                    50717\n",
       "1011                    43488\n",
       "726                     42070\n",
       "437                     37446\n",
       "451                     37329\n",
       "940                     35227\n",
       "139|125|109             27481\n",
       "1572|275                25751\n",
       "1616                    22533\n",
       "1955                    21279\n",
       "947                     20923\n",
       "691                     20103\n",
       "873                     18783\n",
       "388                     17263\n",
       "829                     15362\n",
       "242                     14234\n",
       "880                     13428\n",
       "423                     13305\n",
       "                       ...   \n",
       "880|444                     1\n",
       "1138|275|1572               1\n",
       "465|139|388                 1\n",
       "409|1609                    1\n",
       "940|545                     1\n",
       "458|2130                    1\n",
       "139|423                     1\n",
       "873|1955                    1\n",
       "940|465                     1\n",
       "829|921                     1\n",
       "388|2086                    1\n",
       "1152|531                    1\n",
       "275|1011|1572               1\n",
       "958|139                     1\n",
       "1609|2107|940|2086          1\n",
       "1201|1187                   1\n",
       "2163                        1\n",
       "139|125|109|958             1\n",
       "465|1138|109                1\n",
       "545|873                     1\n",
       "388|423                     1\n",
       "109|94                      1\n",
       "1944|352|1995               1\n",
       "1180|1138                   1\n",
       "409|2122                    1\n",
       "423|139                     1\n",
       "1609|465|1011               1\n",
       "1187|1259                   1\n",
       "465|275                     1\n",
       "458|451                     1\n",
       "Name: genre_ids, Length: 1045, dtype: int64"
      ]
     },
     "execution_count": 8,
     "metadata": {},
     "output_type": "execute_result"
    }
   ],
   "source": [
    "TestSongs[\"genre_ids\"].value_counts()"
   ]
  },
  {
   "cell_type": "code",
   "execution_count": 9,
   "metadata": {},
   "outputs": [],
   "source": [
    "splitGenre = TestSongs.drop('genre_ids', axis=1).join(\n",
    "    TestSongs['genre_ids'].str.split('|', expand=True).stack().reset_index(\n",
    "        level=1, drop=True).rename('genre_ids'))"
   ]
  },
  {
   "cell_type": "code",
   "execution_count": 10,
   "metadata": {
    "scrolled": true
   },
   "outputs": [
    {
     "data": {
      "text/plain": [
       "465     1752294\n",
       "458      411261\n",
       "1609     296378\n",
       "921      278732\n",
       "2022     223896\n",
       "958      198400\n",
       "1259     174276\n",
       "2122     172732\n",
       "444      115921\n",
       "139       97692\n",
       "359       91084\n",
       "786       76038\n",
       "1152      68628\n",
       "940       47442\n",
       "1011      46103\n",
       "726       45297\n",
       "1616      44972\n",
       "947       39152\n",
       "109       39120\n",
       "437       37810\n",
       "451       37442\n",
       "1572      28866\n",
       "125       28747\n",
       "388       28175\n",
       "275       27358\n",
       "873       22084\n",
       "1955      21737\n",
       "691       20927\n",
       "829       17894\n",
       "880       16125\n",
       "242       15326\n",
       "423       13801\n",
       "1180      13229\n",
       "2086      12397\n",
       "2157      12332\n",
       "2130      11692\n",
       "1138      11452\n",
       "430       11401\n",
       "2058      10627\n",
       "843       10135\n",
       "850       10134\n",
       "864       10115\n",
       "798        9816\n",
       "374        9626\n",
       "857        9354\n",
       "352        8933\n",
       "893        8542\n",
       "1995       8134\n",
       "2072       7461\n",
       "409        6927\n",
       "Name: genre_ids, dtype: int64"
      ]
     },
     "execution_count": 10,
     "metadata": {},
     "output_type": "execute_result"
    }
   ],
   "source": [
    "splitGenre[\"genre_ids\"].value_counts()[:50]"
   ]
  },
  {
   "cell_type": "code",
   "execution_count": 11,
   "metadata": {
    "scrolled": true
   },
   "outputs": [
    {
     "name": "stdout",
     "output_type": "stream",
     "text": [
      "msno                  2271330\n",
      "song_id                     0\n",
      "source_system_tab     2280158\n",
      "source_screen_name    2443033\n",
      "source_type           2278917\n",
      "song_length                 0\n",
      "artist_name                 0\n",
      "language                    0\n",
      "genre_ids              132320\n",
      "dtype: int64\n",
      "my library      1071169\n",
      "discover         929733\n",
      "search           293240\n",
      "radio            227059\n",
      "listen with      101785\n",
      "explore           70644\n",
      "notification       2205\n",
      "settings            656\n",
      "Name: source_system_tab, dtype: int64\n",
      "online-playlist           827812\n",
      "local-library             608982\n",
      "local-playlist            310383\n",
      "radio                     229511\n",
      "album                     208874\n",
      "top-hits-for-artist       188335\n",
      "song                      138325\n",
      "song-based-playlist        90358\n",
      "listen-with                87109\n",
      "topic-article-playlist      5514\n",
      "my-daily-playlist           2070\n",
      "artist                       459\n",
      "Name: source_type, dtype: int64\n",
      " 52.0    2129463\n",
      " 3.0     1420449\n",
      "-1.0      785047\n",
      " 31.0     290168\n",
      " 17.0     185278\n",
      " 10.0      69830\n",
      " 24.0      69828\n",
      " 45.0      15300\n",
      " 59.0       8801\n",
      " 38.0       2485\n",
      "Name: language, dtype: int64\n"
     ]
    },
    {
     "data": {
      "text/plain": [
       "Local playlist more     845098\n",
       "Online playlist more    529806\n",
       "Radio                   211193\n",
       "Album more              176123\n",
       "Search                  121979\n",
       "Artist more             110999\n",
       "Discover Feature         93401\n",
       "Others profile more      90457\n",
       "Discover Chart           78999\n",
       "Discover Genre           41616\n",
       "Explore                  27871\n",
       "My library               25557\n",
       "Unknown                  23620\n",
       "Discover New              5277\n",
       "Search Trends             4883\n",
       "Search Home               4705\n",
       "My library_Search         2114\n",
       "Self profile more          131\n",
       "People local                13\n",
       "Concert                     13\n",
       "Payment                     12\n",
       "People global                1\n",
       "Name: source_screen_name, dtype: int64"
      ]
     },
     "execution_count": 11,
     "metadata": {},
     "output_type": "execute_result"
    }
   ],
   "source": [
    "print(splitGenre.isnull().sum())\n",
    "print(splitGenre[\"source_system_tab\"].value_counts())\n",
    "print(splitGenre[\"source_type\"].value_counts())\n",
    "print(splitGenre[\"language\"].value_counts())\n",
    "TestSongs[\"source_screen_name\"].value_counts()"
   ]
  },
  {
   "cell_type": "code",
   "execution_count": 12,
   "metadata": {},
   "outputs": [],
   "source": [
    "col_origin = splitGenre.columns\n",
    "otherSouScre = [\"People local\", \"Concert\", \"Self profile more\", \"My library_Search\",\n",
    "                \"Payment\", \"People global\"]\n",
    "cols = np.array(splitGenre).tolist()\n",
    "for col in cols:\n",
    "    if col[3] in otherSouScre:\n",
    "        col[3] = \"Other\"\n",
    "TestSongs = pd.DataFrame(columns = col_origin, data = cols)"
   ]
  },
  {
   "cell_type": "code",
   "execution_count": 13,
   "metadata": {
    "scrolled": true
   },
   "outputs": [
    {
     "name": "stdout",
     "output_type": "stream",
     "text": [
      "my library      1071169\n",
      "discover         929733\n",
      "search           293240\n",
      "radio            227059\n",
      "listen with      101785\n",
      "explore           70644\n",
      "notification       2205\n",
      "settings            656\n",
      "Name: source_system_tab, dtype: int64\n",
      "online-playlist           827812\n",
      "local-library             608982\n",
      "local-playlist            310383\n",
      "radio                     229511\n",
      "album                     208874\n",
      "top-hits-for-artist       188335\n",
      "song                      138325\n",
      "song-based-playlist        90358\n",
      "listen-with                87109\n",
      "topic-article-playlist      5514\n",
      "my-daily-playlist           2070\n",
      "artist                       459\n",
      "Name: source_type, dtype: int64\n"
     ]
    },
    {
     "data": {
      "text/plain": [
       "msno                  2271330\n",
       "song_id                     0\n",
       "source_system_tab     2280158\n",
       "source_screen_name    2443033\n",
       "source_type           2278917\n",
       "song_length                 0\n",
       "artist_name                 0\n",
       "language                    0\n",
       "genre_ids              132320\n",
       "dtype: int64"
      ]
     },
     "execution_count": 13,
     "metadata": {},
     "output_type": "execute_result"
    }
   ],
   "source": [
    "print(TestSongs[\"source_system_tab\"].value_counts())\n",
    "print(TestSongs[\"source_type\"].value_counts())\n",
    "TestSongs.isnull().sum()"
   ]
  },
  {
   "cell_type": "code",
   "execution_count": 14,
   "metadata": {},
   "outputs": [],
   "source": [
    "feature_count = TestSongs['genre_ids'].value_counts()  \n",
    "l = len(feature_count.values)\n",
    "small_list=[]  # 将样本数少于10000的变量放入list\n",
    "for i in range(l):\n",
    "    if feature_count.values[i] <= 6500:\n",
    "        small_list.append(feature_count.index[i])\n",
    "\n",
    "    \n",
    "m = len(TestSongs)\n",
    "feature_values = TestSongs[\"genre_ids\"].values\n",
    "for j in range(m):\n",
    "    for i in small_list:\n",
    "        if i==feature_values[j]:\n",
    "            feature_values[j] = \"Other\"\n",
    "TestSongs[\"genre_ids\"]=feature_values"
   ]
  },
  {
   "cell_type": "code",
   "execution_count": 15,
   "metadata": {
    "scrolled": true
   },
   "outputs": [
    {
     "name": "stdout",
     "output_type": "stream",
     "text": [
      "465      1752294\n",
      "458       411261\n",
      "1609      296378\n",
      "921       278732\n",
      "2022      223896\n",
      "958       198400\n",
      "1259      174276\n",
      "2122      172732\n",
      "Other     126312\n",
      "444       115921\n",
      "139        97692\n",
      "359        91084\n",
      "786        76038\n",
      "1152       68628\n",
      "940        47442\n",
      "1011       46103\n",
      "726        45297\n",
      "1616       44972\n",
      "947        39152\n",
      "109        39120\n",
      "437        37810\n",
      "451        37442\n",
      "1572       28866\n",
      "125        28747\n",
      "388        28175\n",
      "275        27358\n",
      "873        22084\n",
      "1955       21737\n",
      "691        20927\n",
      "829        17894\n",
      "880        16125\n",
      "242        15326\n",
      "423        13801\n",
      "1180       13229\n",
      "2086       12397\n",
      "2157       12332\n",
      "2130       11692\n",
      "1138       11452\n",
      "430        11401\n",
      "2058       10627\n",
      "843        10135\n",
      "850        10134\n",
      "864        10115\n",
      "798         9816\n",
      "374         9626\n",
      "857         9354\n",
      "352         8933\n",
      "893         8542\n",
      "1995        8134\n",
      "2072        7461\n",
      "409         6927\n",
      "Name: genre_ids, dtype: int64\n",
      "my library      1071169\n",
      "discover         929733\n",
      "search           293240\n",
      "radio            227059\n",
      "listen with      101785\n",
      "explore           70644\n",
      "notification       2205\n",
      "settings            656\n",
      "Name: source_system_tab, dtype: int64\n",
      "online-playlist           827812\n",
      "local-library             608982\n",
      "local-playlist            310383\n",
      "radio                     229511\n",
      "album                     208874\n",
      "top-hits-for-artist       188335\n",
      "song                      138325\n",
      "song-based-playlist        90358\n",
      "listen-with                87109\n",
      "topic-article-playlist      5514\n",
      "my-daily-playlist           2070\n",
      "artist                       459\n",
      "Name: source_type, dtype: int64\n",
      "Local playlist more     886190\n",
      "Online playlist more    562448\n",
      "Radio                   225324\n",
      "Album more              188741\n",
      "Search                  130814\n",
      "Artist more             116123\n",
      "Discover Feature         98648\n",
      "Others profile more      93257\n",
      "Discover Chart           85270\n",
      "Discover Genre           46136\n",
      "Explore                  29943\n",
      "My library               26743\n",
      "Unknown                  25222\n",
      "Discover New              5989\n",
      "Search Trends             5251\n",
      "Search Home               5092\n",
      "Other                     2425\n",
      "Name: source_screen_name, dtype: int64\n",
      " 52.0    2129463\n",
      " 3.0     1420449\n",
      "-1.0      785047\n",
      " 31.0     290168\n",
      " 17.0     185278\n",
      " 10.0      69830\n",
      " 24.0      69828\n",
      " 45.0      15300\n",
      " 59.0       8801\n",
      " 38.0       2485\n",
      "Name: language, dtype: int64\n"
     ]
    }
   ],
   "source": [
    "print(TestSongs[\"genre_ids\"].value_counts())\n",
    "print(TestSongs[\"source_system_tab\"].value_counts())\n",
    "print(TestSongs[\"source_type\"].value_counts())\n",
    "print(TestSongs[\"source_screen_name\"].value_counts())\n",
    "print(TestSongs[\"language\"].value_counts())"
   ]
  },
  {
   "cell_type": "markdown",
   "metadata": {},
   "source": [
    "### Onehot编码"
   ]
  },
  {
   "cell_type": "code",
   "execution_count": 16,
   "metadata": {},
   "outputs": [
    {
     "data": {
      "text/plain": [
       "'\\nTestSongs[\"source_system_tab\"].astype(\"object\")\\nTestSongs[\"source_type\"].astype(\"object\")\\nTestSongs[\"source_screen_name\"].astype(\"object\")\\nTestSongs[ \"genre_ids\"].astype(\"object\")\\nTestSongs[\"language\"].astype(\"object\")\\ntabCat = pd.get_dummies(TestSongs[\"source_system_tab\"], prefix=\"source_system_tab\")\\ntypeCat = pd.get_dummies(TestSongs[\"source_type\"], prefix=\"source_type\")\\nnameCat = pd.get_dummies(TestSongs[\"source_screen_name\"], prefix=\"source_screen_name\")\\ngeidsCat = pd. get_dummies(TestSongs[\"genre_ids\"], prefix=\"genre_ids\")\\nlangCat = pd.get_dummies(TestSongs[\"language\"], prefix=\"language\")\\none_TestSongs = [TestSongs, tabCat,typeCat, nameCat, geidsCat, langCat]\\nTestSongs = pd.concat(one_TestSongs, axis=1).drop([\"source_system_tab\", \"source_type\", \"source_screen_name\",\\n                                                     \"genre_ids\", \"language\"], axis=1)\\nTestSongs.head()\\n'"
      ]
     },
     "execution_count": 16,
     "metadata": {},
     "output_type": "execute_result"
    }
   ],
   "source": [
    "\"\"\"\n",
    "TestSongs[\"source_system_tab\"].astype(\"object\")\n",
    "TestSongs[\"source_type\"].astype(\"object\")\n",
    "TestSongs[\"source_screen_name\"].astype(\"object\")\n",
    "TestSongs[ \"genre_ids\"].astype(\"object\")\n",
    "TestSongs[\"language\"].astype(\"object\")\n",
    "tabCat = pd.get_dummies(TestSongs[\"source_system_tab\"], prefix=\"source_system_tab\")\n",
    "typeCat = pd.get_dummies(TestSongs[\"source_type\"], prefix=\"source_type\")\n",
    "nameCat = pd.get_dummies(TestSongs[\"source_screen_name\"], prefix=\"source_screen_name\")\n",
    "geidsCat = pd. get_dummies(TestSongs[\"genre_ids\"], prefix=\"genre_ids\")\n",
    "langCat = pd.get_dummies(TestSongs[\"language\"], prefix=\"language\")\n",
    "one_TestSongs = [TestSongs, tabCat,typeCat, nameCat, geidsCat, langCat]\n",
    "TestSongs = pd.concat(one_TestSongs, axis=1).drop([\"source_system_tab\", \"source_type\", \"source_screen_name\",\n",
    "                                                     \"genre_ids\", \"language\"], axis=1)\n",
    "TestSongs.head()\n",
    "\"\"\""
   ]
  },
  {
   "cell_type": "markdown",
   "metadata": {},
   "source": [
    "### 将Test_Songs保存起来"
   ]
  },
  {
   "cell_type": "code",
   "execution_count": 17,
   "metadata": {},
   "outputs": [],
   "source": [
    "TestSongs.to_csv(dpath +'TestSongs.csv',index=False,header=True)"
   ]
  }
 ],
 "metadata": {
  "kernelspec": {
   "display_name": "Python 3",
   "language": "python",
   "name": "python3"
  },
  "language_info": {
   "codemirror_mode": {
    "name": "ipython",
    "version": 3
   },
   "file_extension": ".py",
   "mimetype": "text/x-python",
   "name": "python",
   "nbconvert_exporter": "python",
   "pygments_lexer": "ipython3",
   "version": "3.7.3"
  }
 },
 "nbformat": 4,
 "nbformat_minor": 2
}
