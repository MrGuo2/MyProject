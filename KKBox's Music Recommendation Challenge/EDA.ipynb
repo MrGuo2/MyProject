{
 "cells": [
  {
   "cell_type": "code",
   "execution_count": 1,
   "metadata": {},
   "outputs": [],
   "source": [
    "import pandas as pd\n",
    "import numpy as np\n",
    "import matplotlib.pyplot as plt\n",
    "import seaborn as sns\n",
    "%matplotlib inline\n",
    "\n",
    "params = {'legend.fontsize' : 'x-large',\n",
    "          'figure.figsize' : (30, 10),\n",
    "          'axes.labelsize' : 'x-large',\n",
    "          'axes.titlesize' : 'x-large',\n",
    "          'xtick.labelsize' : 'x-large',\n",
    "          'ytick.labelsize' : 'x-large'}\n",
    "sns.set_style('whitegrid')\n",
    "sns.set_context('talk')\n",
    "\n",
    "plt.rcParams.update(params)\n",
    "pd.options.display.max_colwidth = 600"
   ]
  },
  {
   "cell_type": "markdown",
   "metadata": {},
   "source": [
    "## 1、train数据集"
   ]
  },
  {
   "cell_type": "code",
   "execution_count": 2,
   "metadata": {},
   "outputs": [
    {
     "data": {
      "text/html": [
       "<div>\n",
       "<style scoped>\n",
       "    .dataframe tbody tr th:only-of-type {\n",
       "        vertical-align: middle;\n",
       "    }\n",
       "\n",
       "    .dataframe tbody tr th {\n",
       "        vertical-align: top;\n",
       "    }\n",
       "\n",
       "    .dataframe thead th {\n",
       "        text-align: right;\n",
       "    }\n",
       "</style>\n",
       "<table border=\"1\" class=\"dataframe\">\n",
       "  <thead>\n",
       "    <tr style=\"text-align: right;\">\n",
       "      <th></th>\n",
       "      <th>msno</th>\n",
       "      <th>song_id</th>\n",
       "      <th>source_system_tab</th>\n",
       "      <th>source_screen_name</th>\n",
       "      <th>source_type</th>\n",
       "      <th>target</th>\n",
       "    </tr>\n",
       "  </thead>\n",
       "  <tbody>\n",
       "    <tr>\n",
       "      <th>0</th>\n",
       "      <td>FGtllVqz18RPiwJj/edr2gV78zirAiY/9SmYvia+kCg=</td>\n",
       "      <td>BBzumQNXUHKdEBOB7mAJuzok+IJA1c2Ryg/yzTF6tik=</td>\n",
       "      <td>explore</td>\n",
       "      <td>Explore</td>\n",
       "      <td>online-playlist</td>\n",
       "      <td>1</td>\n",
       "    </tr>\n",
       "    <tr>\n",
       "      <th>1</th>\n",
       "      <td>Xumu+NIjS6QYVxDS4/t3SawvJ7viT9hPKXmf0RtLNx8=</td>\n",
       "      <td>bhp/MpSNoqoxOIB+/l8WPqu6jldth4DIpCm3ayXnJqM=</td>\n",
       "      <td>my library</td>\n",
       "      <td>Local playlist more</td>\n",
       "      <td>local-playlist</td>\n",
       "      <td>1</td>\n",
       "    </tr>\n",
       "    <tr>\n",
       "      <th>2</th>\n",
       "      <td>Xumu+NIjS6QYVxDS4/t3SawvJ7viT9hPKXmf0RtLNx8=</td>\n",
       "      <td>JNWfrrC7zNN7BdMpsISKa4Mw+xVJYNnxXh3/Epw7QgY=</td>\n",
       "      <td>my library</td>\n",
       "      <td>Local playlist more</td>\n",
       "      <td>local-playlist</td>\n",
       "      <td>1</td>\n",
       "    </tr>\n",
       "    <tr>\n",
       "      <th>3</th>\n",
       "      <td>Xumu+NIjS6QYVxDS4/t3SawvJ7viT9hPKXmf0RtLNx8=</td>\n",
       "      <td>2A87tzfnJTSWqD7gIZHisolhe4DMdzkbd6LzO1KHjNs=</td>\n",
       "      <td>my library</td>\n",
       "      <td>Local playlist more</td>\n",
       "      <td>local-playlist</td>\n",
       "      <td>1</td>\n",
       "    </tr>\n",
       "    <tr>\n",
       "      <th>4</th>\n",
       "      <td>FGtllVqz18RPiwJj/edr2gV78zirAiY/9SmYvia+kCg=</td>\n",
       "      <td>3qm6XTZ6MOCU11x8FIVbAGH5l5uMkT3/ZalWG1oo2Gc=</td>\n",
       "      <td>explore</td>\n",
       "      <td>Explore</td>\n",
       "      <td>online-playlist</td>\n",
       "      <td>1</td>\n",
       "    </tr>\n",
       "  </tbody>\n",
       "</table>\n",
       "</div>"
      ],
      "text/plain": [
       "                                           msno  \\\n",
       "0  FGtllVqz18RPiwJj/edr2gV78zirAiY/9SmYvia+kCg=   \n",
       "1  Xumu+NIjS6QYVxDS4/t3SawvJ7viT9hPKXmf0RtLNx8=   \n",
       "2  Xumu+NIjS6QYVxDS4/t3SawvJ7viT9hPKXmf0RtLNx8=   \n",
       "3  Xumu+NIjS6QYVxDS4/t3SawvJ7viT9hPKXmf0RtLNx8=   \n",
       "4  FGtllVqz18RPiwJj/edr2gV78zirAiY/9SmYvia+kCg=   \n",
       "\n",
       "                                        song_id source_system_tab  \\\n",
       "0  BBzumQNXUHKdEBOB7mAJuzok+IJA1c2Ryg/yzTF6tik=           explore   \n",
       "1  bhp/MpSNoqoxOIB+/l8WPqu6jldth4DIpCm3ayXnJqM=        my library   \n",
       "2  JNWfrrC7zNN7BdMpsISKa4Mw+xVJYNnxXh3/Epw7QgY=        my library   \n",
       "3  2A87tzfnJTSWqD7gIZHisolhe4DMdzkbd6LzO1KHjNs=        my library   \n",
       "4  3qm6XTZ6MOCU11x8FIVbAGH5l5uMkT3/ZalWG1oo2Gc=           explore   \n",
       "\n",
       "    source_screen_name      source_type  target  \n",
       "0              Explore  online-playlist       1  \n",
       "1  Local playlist more   local-playlist       1  \n",
       "2  Local playlist more   local-playlist       1  \n",
       "3  Local playlist more   local-playlist       1  \n",
       "4              Explore  online-playlist       1  "
      ]
     },
     "execution_count": 2,
     "metadata": {},
     "output_type": "execute_result"
    }
   ],
   "source": [
    "dpath = '../Data/'\n",
    "train = pd.read_csv(dpath + \"train.csv\")\n",
    "members = pd.read_csv(dpath + \"members.csv\")\n",
    "train.head()"
   ]
  },
  {
   "cell_type": "code",
   "execution_count": 3,
   "metadata": {},
   "outputs": [
    {
     "name": "stdout",
     "output_type": "stream",
     "text": [
      "<class 'pandas.core.frame.DataFrame'>\n",
      "RangeIndex: 7377418 entries, 0 to 7377417\n",
      "Data columns (total 6 columns):\n",
      "msno                  object\n",
      "song_id               object\n",
      "source_system_tab     object\n",
      "source_screen_name    object\n",
      "source_type           object\n",
      "target                int64\n",
      "dtypes: int64(1), object(5)\n",
      "memory usage: 337.7+ MB\n"
     ]
    }
   ],
   "source": [
    "train.info()"
   ]
  },
  {
   "cell_type": "code",
   "execution_count": 4,
   "metadata": {},
   "outputs": [
    {
     "name": "stdout",
     "output_type": "stream",
     "text": [
      "msno                       0\n",
      "song_id                    0\n",
      "source_system_tab      24849\n",
      "source_screen_name    414804\n",
      "source_type            21539\n",
      "target                     0\n",
      "dtype: int64\n"
     ]
    }
   ],
   "source": [
    "nanNames = ['source_system_tab','source_screen_name','source_type']\n",
    "train[nanNames] = train[nanNames].replace(0, np.NaN)\n",
    "print(train.isnull().sum())"
   ]
  },
  {
   "cell_type": "code",
   "execution_count": 5,
   "metadata": {
    "scrolled": true
   },
   "outputs": [
    {
     "name": "stdout",
     "output_type": "stream",
     "text": [
      "\n",
      "source_system_tab属性的不同取值和出现次数\n",
      "my library      3684730\n",
      "discover        2179252\n",
      "search           623286\n",
      "radio            476701\n",
      "listen with      212266\n",
      "explore          167949\n",
      "notification       6185\n",
      "settings           2200\n",
      "Name: source_system_tab, dtype: int64\n",
      "\n",
      "source_screen_name属性的不同取值和出现次数\n",
      "Local playlist more     3228202\n",
      "Online playlist more    1294689\n",
      "Radio                    474467\n",
      "Album more               420156\n",
      "Search                   298487\n",
      "Artist more              252429\n",
      "Discover Feature         244246\n",
      "Discover Chart           213658\n",
      "Others profile more      201795\n",
      "Discover Genre            82202\n",
      "My library                75980\n",
      "Explore                   72342\n",
      "Unknown                   54170\n",
      "Discover New              15955\n",
      "Search Trends             13632\n",
      "Search Home               13482\n",
      "My library_Search          6451\n",
      "Self profile more           212\n",
      "Concert                      47\n",
      "Payment                      12\n",
      "Name: source_screen_name, dtype: int64\n",
      "\n",
      "source_type属性的不同取值和出现次数\n",
      "local-library             2261399\n",
      "online-playlist           1967924\n",
      "local-playlist            1079503\n",
      "radio                      483109\n",
      "album                      477344\n",
      "top-hits-for-artist        423614\n",
      "song                       244722\n",
      "song-based-playlist        210527\n",
      "listen-with                192842\n",
      "topic-article-playlist      11194\n",
      "artist                       3038\n",
      "my-daily-playlist             663\n",
      "Name: source_type, dtype: int64\n"
     ]
    }
   ],
   "source": [
    "cateFeatures=['source_system_tab', 'source_screen_name', 'source_type']\n",
    "for col in cateFeatures:\n",
    "    print('\\n%s属性的不同取值和出现次数' %col)\n",
    "    print(train[col].value_counts())\n",
    "    # 缺失值比较多，干脆就开一个新的字段，表明是缺失值还是不是缺失值\n",
    "    train[col+\"_miss\"] = train[col].apply(lambda x: 1 if pd.isnull(x) else 0)\n",
    "    train[[col,col+\"_miss\"]].head()\n",
    "# for col in cateFeatures:\n",
    "#     # 查看缺省值与结果的相关性\n",
    "#     corrCols = train[[col+\"_miss\", \"target\"]].corr().abs()\n",
    "#     print(\"\\nThe correlation between missing values{} and target is:{}\".format(\n",
    "#         col+\"_miss\", corrCols))\n",
    "#     plt.subplots(figsize = (3,2))\n",
    "#     sns.heatmap(corrCols, annot=True)"
   ]
  },
  {
   "cell_type": "code",
   "execution_count": 6,
   "metadata": {},
   "outputs": [],
   "source": [
    "# # 分析数据可以知道数据是否缺省与结果的关系不大\n",
    "# for col in cateFeatures:\n",
    "#     train.drop([col+\"_miss\"], axis=1, inplace=True)\n",
    "#     # maxCounts表示单列出现频率最高的变量\n",
    "#     maxCounts = np.argmax(np.bincount(col))\n",
    "#     print(maxCounts)\n",
    "#     train[col].apply(lambda x: maxCounts if pd.isnull(x) else x)"
   ]
  },
  {
   "cell_type": "code",
   "execution_count": 7,
   "metadata": {},
   "outputs": [
    {
     "data": {
      "image/png": "[encoded data removed]",
      "text/plain": [
       "<Figure size 432x288 with 1 Axes>"
      ]
     },
     "metadata": {
      "needs_background": "light"
     },
     "output_type": "display_data"
    }
   ],
   "source": [
    "sns.countplot(members.bd);\n",
    "\n",
    "plt.xlabel(\"bd\");\n",
    "plt.ylabel(\"Number of occurrences\");"
   ]
  },
  {
   "cell_type": "code",
   "execution_count": null,
   "metadata": {},
   "outputs": [],
   "source": []
  }
 ],
 "metadata": {
  "kernelspec": {
   "display_name": "Python 3",
   "language": "python",
   "name": "python3"
  },
  "language_info": {
   "codemirror_mode": {
    "name": "ipython",
    "version": 3
   },
   "file_extension": ".py",
   "mimetype": "text/x-python",
   "name": "python",
   "nbconvert_exporter": "python",
   "pygments_lexer": "ipython3",
   "version": "3.7.3"
  }
 },
 "nbformat": 4,
 "nbformat_minor": 2
}
