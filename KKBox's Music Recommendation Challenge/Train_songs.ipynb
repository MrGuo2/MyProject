{
 "cells": [
  {
   "cell_type": "markdown",
   "metadata": {},
   "source": [
    "### 读取数据"
   ]
  },
  {
   "cell_type": "code",
   "execution_count": 2,
   "metadata": {},
   "outputs": [],
   "source": [
    "import pandas as pd\n",
    "import numpy as np\n",
    "import scipy.io as sio\n",
    "import scipy.sparse as ss\n",
    "\n",
    "from sklearn import preprocessing\n",
    "from sklearn.preprocessing import LabelEncoder\n",
    "import pickle"
   ]
  },
  {
   "cell_type": "code",
   "execution_count": 2,
   "metadata": {},
   "outputs": [
    {
     "name": "stdout",
     "output_type": "stream",
     "text": [
      "Iteration is stopped.\n",
      "7377418\n"
     ]
    }
   ],
   "source": [
    "# 读取数据train数据集\n",
    "dpath = \"../Data/\"\n",
    "trainTemp = pd.read_csv(dpath+\"train.csv\", iterator=True)\n",
    "# 设置分块参数\n",
    "loop = True\n",
    "chunkSize = 100000\n",
    "chunks = []\n",
    "\n",
    "while loop:\n",
    "    try:\n",
    "        chunk = trainTemp.get_chunk(chunkSize)\n",
    "        chunks.append(chunk)\n",
    "    except StopIteration:\n",
    "        loop = False\n",
    "        print(\"Iteration is stopped.\")\n",
    "train = pd.concat(chunks, ignore_index=True)\n",
    "print(len(train))"
   ]
  },
  {
   "cell_type": "code",
   "execution_count": 3,
   "metadata": {},
   "outputs": [
    {
     "name": "stdout",
     "output_type": "stream",
     "text": [
      "2296320\n"
     ]
    }
   ],
   "source": [
    "# 读取songs数据集\n",
    "songs = pd.read_csv(dpath+\"songs.csv\")\n",
    "print(len(songs))"
   ]
  },
  {
   "cell_type": "code",
   "execution_count": 4,
   "metadata": {},
   "outputs": [
    {
     "data": {
      "text/html": [
       "<div>\n",
       "<style scoped>\n",
       "    .dataframe tbody tr th:only-of-type {\n",
       "        vertical-align: middle;\n",
       "    }\n",
       "\n",
       "    .dataframe tbody tr th {\n",
       "        vertical-align: top;\n",
       "    }\n",
       "\n",
       "    .dataframe thead th {\n",
       "        text-align: right;\n",
       "    }\n",
       "</style>\n",
       "<table border=\"1\" class=\"dataframe\">\n",
       "  <thead>\n",
       "    <tr style=\"text-align: right;\">\n",
       "      <th></th>\n",
       "      <th>msno</th>\n",
       "      <th>song_id</th>\n",
       "      <th>source_system_tab</th>\n",
       "      <th>source_screen_name</th>\n",
       "      <th>source_type</th>\n",
       "      <th>target</th>\n",
       "      <th>song_length</th>\n",
       "      <th>genre_ids</th>\n",
       "      <th>artist_name</th>\n",
       "      <th>composer</th>\n",
       "      <th>lyricist</th>\n",
       "      <th>language</th>\n",
       "    </tr>\n",
       "  </thead>\n",
       "  <tbody>\n",
       "    <tr>\n",
       "      <th>0</th>\n",
       "      <td>FGtllVqz18RPiwJj/edr2gV78zirAiY/9SmYvia+kCg=</td>\n",
       "      <td>BBzumQNXUHKdEBOB7mAJuzok+IJA1c2Ryg/yzTF6tik=</td>\n",
       "      <td>explore</td>\n",
       "      <td>Explore</td>\n",
       "      <td>online-playlist</td>\n",
       "      <td>1.0</td>\n",
       "      <td>206471.0</td>\n",
       "      <td>359</td>\n",
       "      <td>Bastille</td>\n",
       "      <td>Dan Smith| Mark Crew</td>\n",
       "      <td>NaN</td>\n",
       "      <td>52.0</td>\n",
       "    </tr>\n",
       "    <tr>\n",
       "      <th>1</th>\n",
       "      <td>e5Ezre9HPuPos+CXQXtmo32E/hHIZTMmo6jG3yRf6UA=</td>\n",
       "      <td>BBzumQNXUHKdEBOB7mAJuzok+IJA1c2Ryg/yzTF6tik=</td>\n",
       "      <td>my library</td>\n",
       "      <td>Local playlist more</td>\n",
       "      <td>local-playlist</td>\n",
       "      <td>1.0</td>\n",
       "      <td>206471.0</td>\n",
       "      <td>359</td>\n",
       "      <td>Bastille</td>\n",
       "      <td>Dan Smith| Mark Crew</td>\n",
       "      <td>NaN</td>\n",
       "      <td>52.0</td>\n",
       "    </tr>\n",
       "    <tr>\n",
       "      <th>2</th>\n",
       "      <td>pouJqjNRmZOnRNzzMWWkamTKkIGHyvhl/jo4HgbncnM=</td>\n",
       "      <td>BBzumQNXUHKdEBOB7mAJuzok+IJA1c2Ryg/yzTF6tik=</td>\n",
       "      <td>discover</td>\n",
       "      <td>Online playlist more</td>\n",
       "      <td>online-playlist</td>\n",
       "      <td>0.0</td>\n",
       "      <td>206471.0</td>\n",
       "      <td>359</td>\n",
       "      <td>Bastille</td>\n",
       "      <td>Dan Smith| Mark Crew</td>\n",
       "      <td>NaN</td>\n",
       "      <td>52.0</td>\n",
       "    </tr>\n",
       "    <tr>\n",
       "      <th>3</th>\n",
       "      <td>sSexP400TJOZRhx3JB+0s9cqrCnqrlV51B9njoKR1II=</td>\n",
       "      <td>BBzumQNXUHKdEBOB7mAJuzok+IJA1c2Ryg/yzTF6tik=</td>\n",
       "      <td>discover</td>\n",
       "      <td>Online playlist more</td>\n",
       "      <td>online-playlist</td>\n",
       "      <td>0.0</td>\n",
       "      <td>206471.0</td>\n",
       "      <td>359</td>\n",
       "      <td>Bastille</td>\n",
       "      <td>Dan Smith| Mark Crew</td>\n",
       "      <td>NaN</td>\n",
       "      <td>52.0</td>\n",
       "    </tr>\n",
       "    <tr>\n",
       "      <th>4</th>\n",
       "      <td>hKdGiUKHVqKkXGHLrc+EzdSW6q0ERAJ2Cs7/L1N0Ae4=</td>\n",
       "      <td>BBzumQNXUHKdEBOB7mAJuzok+IJA1c2Ryg/yzTF6tik=</td>\n",
       "      <td>discover</td>\n",
       "      <td>NaN</td>\n",
       "      <td>online-playlist</td>\n",
       "      <td>0.0</td>\n",
       "      <td>206471.0</td>\n",
       "      <td>359</td>\n",
       "      <td>Bastille</td>\n",
       "      <td>Dan Smith| Mark Crew</td>\n",
       "      <td>NaN</td>\n",
       "      <td>52.0</td>\n",
       "    </tr>\n",
       "  </tbody>\n",
       "</table>\n",
       "</div>"
      ],
      "text/plain": [
       "                                           msno  \\\n",
       "0  FGtllVqz18RPiwJj/edr2gV78zirAiY/9SmYvia+kCg=   \n",
       "1  e5Ezre9HPuPos+CXQXtmo32E/hHIZTMmo6jG3yRf6UA=   \n",
       "2  pouJqjNRmZOnRNzzMWWkamTKkIGHyvhl/jo4HgbncnM=   \n",
       "3  sSexP400TJOZRhx3JB+0s9cqrCnqrlV51B9njoKR1II=   \n",
       "4  hKdGiUKHVqKkXGHLrc+EzdSW6q0ERAJ2Cs7/L1N0Ae4=   \n",
       "\n",
       "                                        song_id source_system_tab  \\\n",
       "0  BBzumQNXUHKdEBOB7mAJuzok+IJA1c2Ryg/yzTF6tik=           explore   \n",
       "1  BBzumQNXUHKdEBOB7mAJuzok+IJA1c2Ryg/yzTF6tik=        my library   \n",
       "2  BBzumQNXUHKdEBOB7mAJuzok+IJA1c2Ryg/yzTF6tik=          discover   \n",
       "3  BBzumQNXUHKdEBOB7mAJuzok+IJA1c2Ryg/yzTF6tik=          discover   \n",
       "4  BBzumQNXUHKdEBOB7mAJuzok+IJA1c2Ryg/yzTF6tik=          discover   \n",
       "\n",
       "     source_screen_name      source_type  target  song_length genre_ids  \\\n",
       "0               Explore  online-playlist     1.0     206471.0       359   \n",
       "1   Local playlist more   local-playlist     1.0     206471.0       359   \n",
       "2  Online playlist more  online-playlist     0.0     206471.0       359   \n",
       "3  Online playlist more  online-playlist     0.0     206471.0       359   \n",
       "4                   NaN  online-playlist     0.0     206471.0       359   \n",
       "\n",
       "  artist_name              composer lyricist  language  \n",
       "0    Bastille  Dan Smith| Mark Crew      NaN      52.0  \n",
       "1    Bastille  Dan Smith| Mark Crew      NaN      52.0  \n",
       "2    Bastille  Dan Smith| Mark Crew      NaN      52.0  \n",
       "3    Bastille  Dan Smith| Mark Crew      NaN      52.0  \n",
       "4    Bastille  Dan Smith| Mark Crew      NaN      52.0  "
      ]
     },
     "execution_count": 4,
     "metadata": {},
     "output_type": "execute_result"
    }
   ],
   "source": [
    "train_songs = pd.merge(train, songs, how=\"outer\")\n",
    "train_songs.head()"
   ]
  },
  {
   "cell_type": "code",
   "execution_count": 5,
   "metadata": {},
   "outputs": [
    {
     "name": "stdout",
     "output_type": "stream",
     "text": [
      "<class 'pandas.core.frame.DataFrame'>\n",
      "Int64Index: 9313824 entries, 0 to 9313823\n",
      "Data columns (total 12 columns):\n",
      "msno                  object\n",
      "song_id               object\n",
      "source_system_tab     object\n",
      "source_screen_name    object\n",
      "source_type           object\n",
      "target                float64\n",
      "song_length           float64\n",
      "genre_ids             object\n",
      "artist_name           object\n",
      "composer              object\n",
      "lyricist              object\n",
      "language              float64\n",
      "dtypes: float64(3), object(9)\n",
      "memory usage: 923.8+ MB\n"
     ]
    }
   ],
   "source": [
    "train_songs.info()"
   ]
  },
  {
   "cell_type": "code",
   "execution_count": 6,
   "metadata": {},
   "outputs": [
    {
     "name": "stdout",
     "output_type": "stream",
     "text": [
      "msno                  1936406\n",
      "song_id                     0\n",
      "source_system_tab     1961255\n",
      "source_screen_name    2351210\n",
      "source_type           1957945\n",
      "target                1936406\n",
      "song_length               114\n",
      "genre_ids              205338\n",
      "artist_name               114\n",
      "composer              2591558\n",
      "lyricist              4855358\n",
      "language                  150\n",
      "dtype: int64\n"
     ]
    }
   ],
   "source": [
    "print(train_songs.isnull().sum())"
   ]
  },
  {
   "cell_type": "markdown",
   "metadata": {},
   "source": [
    "### 清理数目比较少的空值"
   ]
  },
  {
   "cell_type": "code",
   "execution_count": 7,
   "metadata": {},
   "outputs": [
    {
     "name": "stdout",
     "output_type": "stream",
     "text": [
      "msno                       0\n",
      "song_id                    0\n",
      "source_system_tab      24849\n",
      "source_screen_name    414794\n",
      "source_type            21539\n",
      "target                     0\n",
      "song_length                0\n",
      "genre_ids             118341\n",
      "artist_name                0\n",
      "language                   0\n",
      "dtype: int64\n"
     ]
    },
    {
     "data": {
      "text/plain": [
       "7377268"
      ]
     },
     "execution_count": 7,
     "metadata": {},
     "output_type": "execute_result"
    }
   ],
   "source": [
    "filterData = ['song_length', 'artist_name', 'language', 'target']\n",
    "TrainSongs = train_songs.dropna(subset = filterData)\n",
    "TrainSongs = TrainSongs.drop([\"composer\", \"lyricist\"], axis=1)\n",
    "print(TrainSongs.isnull().sum())\n",
    "len(TrainSongs)"
   ]
  },
  {
   "cell_type": "markdown",
   "metadata": {},
   "source": [
    "### 将数目比较少的变量进行合并"
   ]
  },
  {
   "cell_type": "code",
   "execution_count": 8,
   "metadata": {
    "scrolled": true
   },
   "outputs": [
    {
     "data": {
      "text/plain": [
       "465                            3717690\n",
       "458                            1261208\n",
       "921                             350311\n",
       "1609                            315089\n",
       "444                             243564\n",
       "1259                            181713\n",
       "2022                            152545\n",
       "359                             109513\n",
       "2122                             71859\n",
       "139                              65827\n",
       "451                              63818\n",
       "437                              58530\n",
       "958                              56125\n",
       "786                              43309\n",
       "1616|1609                        42306\n",
       "465|1259                         35352\n",
       "1011                             33496\n",
       "444|1259                         32610\n",
       "921|465                          29746\n",
       "139|125|109                      28031\n",
       "2157                             26430\n",
       "726                              21807\n",
       "921|458                          19760\n",
       "465|458                          16925\n",
       "947                              15516\n",
       "691                              15469\n",
       "786|947                          13656\n",
       "1616                             11473\n",
       "465|2022                         10293\n",
       "1152                             10055\n",
       "                                ...   \n",
       "880|786                              1\n",
       "1969|444|2100                        1\n",
       "2122|191                             1\n",
       "465|531                              1\n",
       "465|1259|1180                        1\n",
       "779                                  1\n",
       "1096|958                             1\n",
       "2245|242                             1\n",
       "275|1955|1572                        1\n",
       "139|125|95                           1\n",
       "940|726                              1\n",
       "921|423                              1\n",
       "921|900|893                          1\n",
       "880|430                              1\n",
       "1616|2109                            1\n",
       "437|2022                             1\n",
       "430|1011                             1\n",
       "1180|437                             1\n",
       "829|1011                             1\n",
       "1152|388                             1\n",
       "1609|921                             1\n",
       "1187                                 1\n",
       "1011|2189|367                        1\n",
       "465|2122|423                         1\n",
       "545|1259                             1\n",
       "829|822                              1\n",
       "751                                  1\n",
       "1969|275|2100|1572                   1\n",
       "1152|1609|921|2122|1259|958          1\n",
       "1579                                 1\n",
       "Name: genre_ids, Length: 572, dtype: int64"
      ]
     },
     "execution_count": 8,
     "metadata": {},
     "output_type": "execute_result"
    }
   ],
   "source": [
    "TrainSongs[\"genre_ids\"].value_counts()"
   ]
  },
  {
   "cell_type": "code",
   "execution_count": 9,
   "metadata": {},
   "outputs": [],
   "source": [
    "splitGenre = TrainSongs.drop('genre_ids', axis=1).join(\n",
    "    TrainSongs['genre_ids'].str.split('|', expand=True).stack().reset_index(\n",
    "        level=1, drop=True).rename('genre_ids'))"
   ]
  },
  {
   "cell_type": "code",
   "execution_count": 1,
   "metadata": {
    "scrolled": true
   },
   "outputs": [
    {
     "ename": "NameError",
     "evalue": "name 'splitGenre' is not defined",
     "output_type": "error",
     "traceback": [
      "\u001b[1;31m---------------------------------------------------------------------------\u001b[0m",
      "\u001b[1;31mNameError\u001b[0m                                 Traceback (most recent call last)",
      "\u001b[1;32m<ipython-input-1-1f77eba68bf9>\u001b[0m in \u001b[0;36m<module>\u001b[1;34m\u001b[0m\n\u001b[1;32m----> 1\u001b[1;33m \u001b[0msplitGenre\u001b[0m\u001b[1;33m[\u001b[0m\u001b[1;34m\"genre_ids\"\u001b[0m\u001b[1;33m]\u001b[0m\u001b[1;33m.\u001b[0m\u001b[0mvalue_counts\u001b[0m\u001b[1;33m(\u001b[0m\u001b[1;33m)\u001b[0m\u001b[1;33m[\u001b[0m\u001b[1;33m:\u001b[0m\u001b[1;36m50\u001b[0m\u001b[1;33m]\u001b[0m\u001b[1;33m\u001b[0m\u001b[1;33m\u001b[0m\u001b[0m\n\u001b[0m",
      "\u001b[1;31mNameError\u001b[0m: name 'splitGenre' is not defined"
     ]
    }
   ],
   "source": [
    "splitGenre[\"genre_ids\"].value_counts()[:50]"
   ]
  },
  {
   "cell_type": "code",
   "execution_count": 11,
   "metadata": {
    "scrolled": true
   },
   "outputs": [
    {
     "name": "stdout",
     "output_type": "stream",
     "text": [
      "msno                       0\n",
      "song_id                    0\n",
      "source_system_tab      26103\n",
      "source_screen_name    436065\n",
      "source_type            22476\n",
      "target                     0\n",
      "song_length                0\n",
      "artist_name                0\n",
      "language                   0\n",
      "genre_ids             118341\n",
      "dtype: int64\n",
      "my library      3860572\n",
      "discover        2314052\n",
      "search           656772\n",
      "radio            508285\n",
      "listen with      218239\n",
      "explore          178500\n",
      "notification       6498\n",
      "settings           2273\n",
      "Name: source_system_tab, dtype: int64\n",
      "local-library             2361269\n",
      "online-playlist           2091690\n",
      "local-playlist            1134915\n",
      "radio                      514876\n",
      "album                      508718\n",
      "top-hits-for-artist        445326\n",
      "song                       259825\n",
      "song-based-playlist        218168\n",
      "listen-with                198193\n",
      "topic-article-playlist      12012\n",
      "artist                       3143\n",
      "my-daily-playlist             683\n",
      "Name: source_type, dtype: int64\n"
     ]
    },
    {
     "data": {
      "text/plain": [
       "Local playlist more     3228136\n",
       "Online playlist more    1294679\n",
       "Radio                    474449\n",
       "Album more               420131\n",
       "Search                   298478\n",
       "Artist more              252425\n",
       "Discover Feature         244244\n",
       "Discover Chart           213658\n",
       "Others profile more      201794\n",
       "Discover Genre            82200\n",
       "My library                75978\n",
       "Explore                   72341\n",
       "Unknown                   54170\n",
       "Discover New              15955\n",
       "Search Trends             13632\n",
       "Search Home               13482\n",
       "My library_Search          6451\n",
       "Self profile more           212\n",
       "Concert                      47\n",
       "Payment                      12\n",
       "Name: source_screen_name, dtype: int64"
      ]
     },
     "execution_count": 11,
     "metadata": {},
     "output_type": "execute_result"
    }
   ],
   "source": [
    "print(splitGenre.isnull().sum())\n",
    "print(splitGenre[\"source_system_tab\"].value_counts())\n",
    "print(splitGenre[\"source_type\"].value_counts())\n",
    "TrainSongs[\"source_screen_name\"].value_counts()"
   ]
  },
  {
   "cell_type": "code",
   "execution_count": 12,
   "metadata": {},
   "outputs": [],
   "source": [
    "col_origin = splitGenre.columns\n",
    "otherSouTab = [\"notification\", \"settings\", np.nan]\n",
    "otherSouType = [\"topic-article-playlist\", \"artist\", \"my-daily-playlist\", np.nan]\n",
    "otherSouScre = [\"Payment\", \"Concert\", \"Self profile more\", \"My library_Search\",\n",
    "                \"Search Home\", \"Discover New\"]\n",
    "otherLanguage = [ 24.0, 59.0, 45.0, 38.0]\n",
    "cols = np.array(splitGenre).tolist()\n",
    "for col in cols:\n",
    "    if col[2] in otherSouTab:\n",
    "        col[2] = \"Other\"\n",
    "    if col[3] in otherSouScre:\n",
    "        col[3] = \"Other\"\n",
    "    if col[4] in otherSouType:\n",
    "        col[4] = \"Other\"\n",
    "    if col[8] in otherLanguage:\n",
    "        col[8] = \"Ohter\"\n",
    "TrainSongs = pd.DataFrame(columns = col_origin, data = cols)"
   ]
  },
  {
   "cell_type": "code",
   "execution_count": 13,
   "metadata": {},
   "outputs": [
    {
     "name": "stdout",
     "output_type": "stream",
     "text": [
      "my library     3860572\n",
      "discover       2314052\n",
      "search          656772\n",
      "radio           508285\n",
      "listen with     218239\n",
      "explore         178500\n",
      "Other            34874\n",
      "Name: source_system_tab, dtype: int64\n",
      "local-library          2361269\n",
      "online-playlist        2091690\n",
      "local-playlist         1134915\n",
      "radio                   514876\n",
      "album                   508718\n",
      "top-hits-for-artist     445326\n",
      "song                    259825\n",
      "song-based-playlist     218168\n",
      "listen-with             198193\n",
      "Other                    38314\n",
      "Name: source_type, dtype: int64\n"
     ]
    },
    {
     "data": {
      "text/plain": [
       "msno                       0\n",
       "song_id                    0\n",
       "source_system_tab          0\n",
       "source_screen_name    436065\n",
       "source_type                0\n",
       "target                     0\n",
       "song_length                0\n",
       "artist_name                0\n",
       "language                   0\n",
       "genre_ids             118341\n",
       "dtype: int64"
      ]
     },
     "execution_count": 13,
     "metadata": {},
     "output_type": "execute_result"
    }
   ],
   "source": [
    "print(TrainSongs[\"source_system_tab\"].value_counts())\n",
    "print(TrainSongs[\"source_type\"].value_counts())\n",
    "TrainSongs.isnull().sum()"
   ]
  },
  {
   "cell_type": "code",
   "execution_count": 14,
   "metadata": {},
   "outputs": [],
   "source": [
    "feature_count = TrainSongs['genre_ids'].value_counts()  \n",
    "l = len(feature_count.values)\n",
    "small_list=[]  # 将样本数少于10000的变量放入list\n",
    "for i in range(l):\n",
    "    if feature_count.values[i] <= 10000:\n",
    "        small_list.append(feature_count.index[i])\n",
    "\n",
    "    \n",
    "m = len(TrainSongs)\n",
    "feature_values = TrainSongs[\"genre_ids\"].values\n",
    "for j in range(m):\n",
    "    for i in small_list:\n",
    "        if i==feature_values[j]:\n",
    "            feature_values[j] = \"Other\"\n",
    "TrainSongs[\"genre_ids\"]=feature_values"
   ]
  },
  {
   "cell_type": "code",
   "execution_count": 15,
   "metadata": {
    "scrolled": true
   },
   "outputs": [
    {
     "name": "stdout",
     "output_type": "stream",
     "text": [
      "465      3848078\n",
      "458      1311333\n",
      "921       410660\n",
      "1609      374123\n",
      "444       282518\n",
      "1259      251838\n",
      "2022      166537\n",
      "Other     144066\n",
      "359       114999\n",
      "139       102186\n",
      "2122       80357\n",
      "786        67423\n",
      "451        63858\n",
      "958        60497\n",
      "437        59310\n",
      "1616       55285\n",
      "1011       40038\n",
      "947        34147\n",
      "109        33270\n",
      "125        28899\n",
      "726        27202\n",
      "2157       27128\n",
      "691        16250\n",
      "430        15792\n",
      "1152       14309\n",
      "829        12033\n",
      "798        10817\n",
      "Name: genre_ids, dtype: int64\n",
      "my library     3860572\n",
      "discover       2314052\n",
      "search          656772\n",
      "radio           508285\n",
      "listen with     218239\n",
      "explore         178500\n",
      "Other            34874\n",
      "Name: source_system_tab, dtype: int64\n",
      "local-library          2361269\n",
      "online-playlist        2091690\n",
      "local-playlist         1134915\n",
      "radio                   514876\n",
      "album                   508718\n",
      "top-hits-for-artist     445326\n",
      "song                    259825\n",
      "song-based-playlist     218168\n",
      "listen-with             198193\n",
      "Other                    38314\n",
      "Name: source_type, dtype: int64\n",
      "Local playlist more     3378367\n",
      "Online playlist more    1369890\n",
      "Radio                    505708\n",
      "Album more               448051\n",
      "Search                   317664\n",
      "Artist more              264802\n",
      "Discover Feature         258517\n",
      "Discover Chart           227563\n",
      "Others profile more      207509\n",
      "Discover Genre            90611\n",
      "My library                79502\n",
      "Explore                   76890\n",
      "Unknown                   56870\n",
      "Other                     38770\n",
      "Search Trends             14515\n",
      "Name: source_screen_name, dtype: int64\n",
      "3.0      4168521\n",
      "52.0     2007729\n",
      "31.0      704532\n",
      "-1.0      356976\n",
      "17.0      273952\n",
      "10.0      173402\n",
      "Ohter      86182\n",
      "Name: language, dtype: int64\n"
     ]
    }
   ],
   "source": [
    "print(TrainSongs[\"genre_ids\"].value_counts())\n",
    "print(TrainSongs[\"source_system_tab\"].value_counts())\n",
    "print(TrainSongs[\"source_type\"].value_counts())\n",
    "print(TrainSongs[\"source_screen_name\"].value_counts())\n",
    "print(TrainSongs[\"language\"].value_counts())"
   ]
  },
  {
   "cell_type": "markdown",
   "metadata": {},
   "source": [
    "### Onehot编码"
   ]
  },
  {
   "cell_type": "code",
   "execution_count": 16,
   "metadata": {},
   "outputs": [
    {
     "data": {
      "text/plain": [
       "'\\nTrainSongs[\"source_system_tab\"].astype(\"object\")\\nTrainSongs[\"source_type\"].astype(\"object\")\\nTrainSongs[\"source_screen_name\"].astype(\"object\")\\nTrainSongs[ \"genre_ids\"].astype(\"object\")\\nTrainSongs[\"language\"].astype(\"object\")\\ntabCat = pd.get_dummies(TrainSongs[\"source_system_tab\"], prefix=\"source_system_tab\")\\ntypeCat = pd.get_dummies(TrainSongs[\"source_type\"], prefix=\"source_type\")\\nnameCat = pd.get_dummies(TrainSongs[\"source_screen_name\"], prefix=\"source_screen_name\")\\ngeidsCat = pd. get_dummies(TrainSongs[\"genre_ids\"], prefix=\"genre_ids\")\\nlangCat = pd.get_dummies(TrainSongs[\"language\"], prefix=\"language\")\\none_TrainSongs = [TrainSongs, tabCat,typeCat, nameCat, geidsCat, langCat]\\nTrainSongs = pd.concat(one_TrainSongs, axis=1).drop([\"source_system_tab\", \"source_type\", \"source_screen_name\",\\n                                                     \"genre_ids\", \"language\"], axis=1)\\nTrainSongs.head()\\n'"
      ]
     },
     "execution_count": 16,
     "metadata": {},
     "output_type": "execute_result"
    }
   ],
   "source": [
    "\"\"\"\n",
    "TrainSongs[\"source_system_tab\"].astype(\"object\")\n",
    "TrainSongs[\"source_type\"].astype(\"object\")\n",
    "TrainSongs[\"source_screen_name\"].astype(\"object\")\n",
    "TrainSongs[ \"genre_ids\"].astype(\"object\")\n",
    "TrainSongs[\"language\"].astype(\"object\")\n",
    "tabCat = pd.get_dummies(TrainSongs[\"source_system_tab\"], prefix=\"source_system_tab\")\n",
    "typeCat = pd.get_dummies(TrainSongs[\"source_type\"], prefix=\"source_type\")\n",
    "nameCat = pd.get_dummies(TrainSongs[\"source_screen_name\"], prefix=\"source_screen_name\")\n",
    "geidsCat = pd. get_dummies(TrainSongs[\"genre_ids\"], prefix=\"genre_ids\")\n",
    "langCat = pd.get_dummies(TrainSongs[\"language\"], prefix=\"language\")\n",
    "one_TrainSongs = [TrainSongs, tabCat,typeCat, nameCat, geidsCat, langCat]\n",
    "TrainSongs = pd.concat(one_TrainSongs, axis=1).drop([\"source_system_tab\", \"source_type\", \"source_screen_name\",\n",
    "                                                     \"genre_ids\", \"language\"], axis=1)\n",
    "TrainSongs.head()\n",
    "\"\"\""
   ]
  },
  {
   "cell_type": "markdown",
   "metadata": {},
   "source": [
    "### 将Train_Songs保存起来"
   ]
  },
  {
   "cell_type": "code",
   "execution_count": 17,
   "metadata": {},
   "outputs": [],
   "source": [
    "TrainSongs.to_csv(dpath +'TrainSongs.csv',index=False,header=True)"
   ]
  }
 ],
 "metadata": {
  "kernelspec": {
   "display_name": "Python 3",
   "language": "python",
   "name": "python3"
  },
  "language_info": {
   "codemirror_mode": {
    "name": "ipython",
    "version": 3
   },
   "file_extension": ".py",
   "mimetype": "text/x-python",
   "name": "python",
   "nbconvert_exporter": "python",
   "pygments_lexer": "ipython3",
   "version": "3.7.3"
  }
 },
 "nbformat": 4,
 "nbformat_minor": 2
}
