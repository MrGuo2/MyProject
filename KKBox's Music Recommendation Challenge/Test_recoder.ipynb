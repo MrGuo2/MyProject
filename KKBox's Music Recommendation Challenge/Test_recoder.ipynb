{
 "cells": [
  {
   "cell_type": "code",
   "execution_count": 2,
   "metadata": {},
   "outputs": [],
   "source": [
    "import pandas as pd\n",
    "import numpy as np          \n",
    "def handle(data):\n",
    "    \n",
    "    # 将该特征的类别进行归类统计，返回数据类型为series,index为所有的类别，value为每个类别对应的个数\n",
    "    feature_count = data['地名'].value_counts()  \n",
    "    l = len(feature_count.values)\n",
    "    small_list=[]  # 将样本个数只有1的类别放进列表\n",
    "    for i in range(l):\n",
    "        if feature_count.values[i]==1:\n",
    "            small_list.append(feature_count.index[i])\n",
    "\n",
    "    \n",
    "    m = len(data)\n",
    "    feature_values=data['地名'].values\n",
    "    for j in range(m):\n",
    "        for i in small_list:\n",
    "            if i==feature_values[j]:\n",
    "                feature_values[j]='少数'\n",
    "    data['地名']=feature_values\n",
    "    return data"
   ]
  },
  {
   "cell_type": "code",
   "execution_count": 6,
   "metadata": {},
   "outputs": [
    {
     "name": "stdout",
     "output_type": "stream",
     "text": [
      "   a  b  c  d 地名  f\n",
      "0  a  b  c  d  c  b\n",
      "1  a  c  e  e  b  c\n",
      "2  a  b  c  d  a  c\n",
      "3  b  e  a  a  b  c\n",
      "4  b  f  n  a  e  b\n",
      "   a  b  c  d  地名  f\n",
      "0  a  b  c  d  少数  b\n",
      "1  a  c  e  e   b  c\n",
      "2  a  b  c  d  少数  c\n",
      "3  b  e  a  a   b  c\n",
      "4  b  f  n  a  少数  b\n"
     ]
    }
   ],
   "source": [
    "df = pd.DataFrame(np.array(list('abcdcbaceebcabcdacbeaabcbfnaeb')).reshape(5,6),index=range(5),columns=['a','b','c','d','地名','f'])         \n",
    "print (df)\n",
    "handle(df)\n",
    "print (df)"
   ]
  },
  {
   "cell_type": "code",
   "execution_count": 4,
   "metadata": {},
   "outputs": [
    {
     "name": "stdout",
     "output_type": "stream",
     "text": [
      "  (0, 0)\t1\n",
      "  (0, 2)\t2\n",
      "  (1, 2)\t3\n",
      "  (2, 0)\t4\n",
      "  (2, 1)\t5\n",
      "  (2, 2)\t6\n"
     ]
    }
   ],
   "source": [
    "import numpy as np\n",
    "from scipy.sparse import csr_matrix\n",
    "indptr = np.array([0, 2, 3, 6])\n",
    "indices = np.array([0, 2, 2, 0, 1, 2])\n",
    "data = np.array([1, 2, 3, 4, 5, 6])\n",
    "a = csr_matrix((data, indices, indptr), shape=(3, 3))\n",
    "\n",
    "print(a)"
   ]
  },
  {
   "cell_type": "code",
   "execution_count": null,
   "metadata": {},
   "outputs": [],
   "source": []
  }
 ],
 "metadata": {
  "kernelspec": {
   "display_name": "Python 3",
   "language": "python",
   "name": "python3"
  },
  "language_info": {
   "codemirror_mode": {
    "name": "ipython",
    "version": 3
   },
   "file_extension": ".py",
   "mimetype": "text/x-python",
   "name": "python",
   "nbconvert_exporter": "python",
   "pygments_lexer": "ipython3",
   "version": "3.7.3"
  }
 },
 "nbformat": 4,
 "nbformat_minor": 2
}
