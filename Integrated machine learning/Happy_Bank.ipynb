{
 "cells": [
  {
   "cell_type": "code",
   "execution_count": 1,
   "metadata": {},
   "outputs": [
    {
     "name": "stderr",
     "output_type": "stream",
     "text": [
      "D:\\Anaconda3\\lib\\site-packages\\IPython\\core\\interactiveshell.py:3049: DtypeWarning: Columns (12,18) have mixed types. Specify dtype option on import or set low_memory=False.\n",
      "  interactivity=interactivity, compiler=compiler, result=result)\n"
     ]
    }
   ],
   "source": [
    "# 导入pandas相关的工具包\n",
    "import numpy as np \n",
    "import pandas as pd \n",
    "import matplotlib as plt\n",
    "\n",
    "dpath = \"./\"\n",
    "Train = pd.read_csv(dpath+\"Train.csv\")\n",
    "Test = pd.read_csv(dpath+\"Test.csv\")"
   ]
  },
  {
   "cell_type": "code",
   "execution_count": 2,
   "metadata": {},
   "outputs": [],
   "source": [
    "# 剔除Train和Test缺失值\n",
    "Train = Train.drop([\"LoggedIn\", \"Interest_Rate\", \"Processing_Fee\", \n",
    "\"EMI_Loan_Submitted\",\"Loan_Amount_Submitted\", \"Loan_Tenure_Submitted\"], axis=1)\n",
    "Test = Test.drop([\"Interest_Rate\", \"Processing_Fee\", \"EMI_Loan_Submitted\",\n",
    "\"Loan_Amount_Submitted\", \"Loan_Tenure_Submitted\"], axis=1)"
   ]
  },
  {
   "cell_type": "code",
   "execution_count": 3,
   "metadata": {},
   "outputs": [],
   "source": [
    "# 删除数量较少的缺失值\n",
    "willDrop = [\"City\", \"Loan_Amount_Applied\", \"Loan_Tenure_Applied\", \n",
    "\"Employer_Name\", \"Var1\"]\n",
    "Train = Train.dropna(subset = willDrop)\n",
    "Test = Test.dropna(subset = willDrop)"
   ]
  },
  {
   "cell_type": "code",
   "execution_count": 4,
   "metadata": {},
   "outputs": [],
   "source": [
    "# 填充Salary_Account中的null值\n",
    "Train['Salary_Account'] = Train['Salary_Account'].fillna('unknown')\n",
    "Test[\"Salary_Account\"] = Test[\"Salary_Account\"].fillna(\"unknown\")\n",
    "X_train = Train.drop([\"Disbursed\"], axis = 1)\n",
    "y_train = Train[\"Disbursed\"]"
   ]
  },
  {
   "cell_type": "markdown",
   "metadata": {},
   "source": [
    "# 训练数据"
   ]
  },
  {
   "cell_type": "code",
   "execution_count": 5,
   "metadata": {},
   "outputs": [],
   "source": [
    "# 导入LabelEncoder和LGBM的工具包\n",
    "import lightgbm as lgbm \n",
    "from lightgbm.sklearn import LGBMClassifier\n",
    "from sklearn.model_selection import GridSearchCV\n",
    "import matplotlib.pyplot as plt"
   ]
  },
  {
   "cell_type": "code",
   "execution_count": 6,
   "metadata": {},
   "outputs": [
    {
     "name": "stdout",
     "output_type": "stream",
     "text": [
      "Transform successful!\n"
     ]
    }
   ],
   "source": [
    "# 将所有参数转化为数值\n",
    "# 将test拼接到train里，然后统一labelencoder\n",
    "from sklearn.preprocessing import LabelEncoder\n",
    "LE = LabelEncoder()\n",
    "\n",
    "willLE = [\"ID\", \"Gender\", \"City\", \"DOB\", \"Lead_Creation_Date\", \"Employer_Name\", \"Var2\", \n",
    "\"Salary_Account\", \"Mobile_Verified\", \"Var1\", \"Var5\", \"Filled_Form\", \"Device_Type\", \"Source\"]\n",
    "for col in willLE:\n",
    "    colLabEn = LE.fit(X_train[col].append(Test[col]).astype(str))\n",
    "    X_train[col] = colLabEn.transform(X_train[col].astype(str))\n",
    "    Test[col] = colLabEn.transform(Test[col].astype(str))\n",
    "print(\"Transform successful!\")"
   ]
  },
  {
   "cell_type": "code",
   "execution_count": 7,
   "metadata": {},
   "outputs": [
    {
     "data": {
      "text/plain": [
       "'\\n# 将所有数据归一化处理\\nX_train_cols = X_train.columns\\nTest_cols = Test.columns\\n\\nfrom sklearn.preprocessing import MinMaxScaler\\nms = MinMaxScaler()\\n\\nX_train = ms.fit_transform(X_train)\\nTest = ms.fit_transform(Test)\\nX_train = pd.DataFrame(columns = X_train_cols, data = X_train)\\nTest = pd.DataFrame(columns = Test_cols, data = Test)\\n'"
      ]
     },
     "execution_count": 7,
     "metadata": {},
     "output_type": "execute_result"
    }
   ],
   "source": [
    "'''\n",
    "# 将所有数据归一化处理\n",
    "X_train_cols = X_train.columns\n",
    "Test_cols = Test.columns\n",
    "\n",
    "from sklearn.preprocessing import MinMaxScaler\n",
    "ms = MinMaxScaler()\n",
    "\n",
    "X_train = ms.fit_transform(X_train)\n",
    "Test = ms.fit_transform(Test)\n",
    "X_train = pd.DataFrame(columns = X_train_cols, data = X_train)\n",
    "Test = pd.DataFrame(columns = Test_cols, data = Test)\n",
    "'''"
   ]
  },
  {
   "cell_type": "markdown",
   "metadata": {},
   "source": [
    "# LightGBM参数调优\n",
    "LightGBM的主要的超参数包括  \n",
    "1. 树的数目n_estimators和学习率learning_rate\n",
    "2. 树的最大深度max_depth和树的最大叶子节点数目num_leaves(注意:XGboot只有max_depth,\n",
    "LightGBM采用叶子优先的方式生成树，num_leaves很重要，设置成比2^max_depth小)\n",
    "3. 叶子节点的最小样本数:min_data_in_leaf(min_data, min_child_samples)\n",
    "4. 每颗数的列采样比例:feature_fraction/colsample_bytree\n",
    "5. 每棵树的行采样比例:bagging_fraction(需要同时设置bagging_freq=1)/subsample\n",
    "6. 正则化参数lambda_l1(reg_alpha),lambda_l2(reg_lambda)\n",
    "7. 两个模型复杂度参数，但会影响模型速度和精度。可根据特征取值范围和样本数目修改这两个参数\n",
    "1) 特征的最大bin数目max_bin:默认255\n",
    "2) 用来建立直方图的样本数目subsample_for_bin:默认200000  \n",
    "对n_estimators，用LightGBM内嵌的cv函数调优，因为同XGBoost一样，LightGBM学习过程内嵌了\n",
    "cv，速度极快。对其他参数用GridSearchCV"
   ]
  },
  {
   "cell_type": "markdown",
   "metadata": {},
   "source": [
    "# nestimators"
   ]
  },
  {
   "cell_type": "code",
   "execution_count": 8,
   "metadata": {},
   "outputs": [],
   "source": [
    "# 计算参数对应的得分并求出初步的nestimators\n",
    "MAX_ROUNDS = 10000\n",
    "def get_n_estimators(params, X_train, y_train, early_stopping_rounds=10):\n",
    "    lgbm_param = params.copy()\n",
    "    lgbmtrain = lgbm.Dataset(X_train, y_train)\n",
    "    cv_result = lgbm.cv(lgbm_param, lgbmtrain, num_boost_round=MAX_ROUNDS, nfold=3, metrics=\"binary_logloss\", \n",
    "    early_stopping_rounds=early_stopping_rounds, seed=3)\n",
    "    print(\"best n_estimators:\", len(cv_result[\"binary_logloss-mean\"]))\n",
    "    print(\"best cv score:\", cv_result[\"binary_logloss-mean\"][-1])\n",
    "    \n",
    "    return len(cv_result[\"binary_logloss-mean\"])"
   ]
  },
  {
   "cell_type": "code",
   "execution_count": 9,
   "metadata": {},
   "outputs": [
    {
     "name": "stdout",
     "output_type": "stream",
     "text": [
      "best n_estimators: 43\n",
      "best cv score: 0.06506876345663988\n"
     ]
    }
   ],
   "source": [
    "# 输入参数\n",
    "params = {\"boosting_type\":\"gbdt\", \"objective\":\"binary\", \"n_jobs\":8, \"learning_rate\":0.1, \n",
    "\"num_leaves\":60, \"max_depth\":6, \"max_bin\":127, \"subsample\":0.7, \"bagging_freq\":1, \"colsample_bytree\":0.7}\n",
    "\n",
    "n_estimators_1 = get_n_estimators(params, X_train, y_train)"
   ]
  },
  {
   "cell_type": "code",
   "execution_count": 10,
   "metadata": {},
   "outputs": [
    {
     "name": "stdout",
     "output_type": "stream",
     "text": [
      "Fitting 3 folds for each of 5 candidates, totalling 15 fits\n"
     ]
    },
    {
     "name": "stderr",
     "output_type": "stream",
     "text": [
      "[Parallel(n_jobs=4)]: Using backend LokyBackend with 4 concurrent workers.\n",
      "[Parallel(n_jobs=4)]: Done  12 out of  15 | elapsed:    5.9s remaining:    1.4s\n",
      "[Parallel(n_jobs=4)]: Done  15 out of  15 | elapsed:    6.8s finished\n"
     ]
    },
    {
     "data": {
      "text/plain": [
       "GridSearchCV(cv=StratifiedKFold(n_splits=3, random_state=3, shuffle=True),\n",
       "       error_score='raise-deprecating',\n",
       "       estimator=LGBMClassifier(bagging_freq=1, boosting_type='gbdt', class_weight=None,\n",
       "        colsample_bytree=0.7, importance_type='split', learning_rate=0.1,\n",
       "        max_bin=127, max_depth=7, min_child_samples=20,\n",
       "        min_child_weight=0.001, min_split_gain=0.0, n_estimators=43,\n",
       "        n_jobs=8, num_leaves=31, objective='binary', random_state=None,\n",
       "        reg_alpha=0.0, reg_lambda=0.0, silent=False, subsample=0.7,\n",
       "        subsample_for_bin=200000, subsample_freq=0),\n",
       "       fit_params=None, iid='warn', n_jobs=4,\n",
       "       param_grid={'num_leaves': range(10, 60, 10)},\n",
       "       pre_dispatch='2*n_jobs', refit=False, return_train_score='warn',\n",
       "       scoring='neg_log_loss', verbose=5)"
      ]
     },
     "execution_count": 10,
     "metadata": {},
     "output_type": "execute_result"
    }
   ],
   "source": [
    "# num_leaves&max_depth = 7\n",
    "# num_leaves建10~60，值越大模型越复杂，越容易过拟合响应的扩大max_depth=7\n",
    "from sklearn.model_selection import StratifiedKFold\n",
    "kfold = StratifiedKFold(n_splits=3, shuffle=True, random_state=3)\n",
    "\n",
    "params = {\"boosting_type\":\"gbdt\", \"objective\":\"binary\",\n",
    "\"n_jobs\":8, \"learning_rate\":0.1, \"n_estimators\":n_estimators_1, \"max_depth\":7,\n",
    "\"max_bin\":127, \"subsample\":0.7, \"bagging_freq\":1, \"colsample_bytree\":0.7}\n",
    "# silent是否在boosting过程中输出\n",
    "lg = LGBMClassifier(silent=False, **params)\n",
    "\n",
    "num_leaves_s = range(10, 60, 10)\n",
    "tuned_parameters = dict(num_leaves = num_leaves_s)\n",
    "\n",
    "grid_search = GridSearchCV(lg, n_jobs=4, param_grid=tuned_parameters, cv=kfold, \n",
    "scoring=\"neg_log_loss\", verbose=5, refit=False)\n",
    "grid_search.fit(X_train, y_train)"
   ]
  },
  {
   "cell_type": "code",
   "execution_count": 11,
   "metadata": {},
   "outputs": [
    {
     "name": "stderr",
     "output_type": "stream",
     "text": [
      "D:\\Anaconda3\\lib\\site-packages\\sklearn\\utils\\deprecation.py:125: FutureWarning: You are accessing a training score ('mean_train_score'), which will not be available by default any more in 0.21. If you need training scores, please set return_train_score=True\n",
      "  warnings.warn(*warn_args, **warn_kwargs)\n",
      "D:\\Anaconda3\\lib\\site-packages\\sklearn\\utils\\deprecation.py:125: FutureWarning: You are accessing a training score ('std_train_score'), which will not be available by default any more in 0.21. If you need training scores, please set return_train_score=True\n",
      "  warnings.warn(*warn_args, **warn_kwargs)\n"
     ]
    },
    {
     "name": "stdout",
     "output_type": "stream",
     "text": [
      "0.06494520931307951\n",
      "{'num_leaves': 30}\n"
     ]
    },
    {
     "data": {
      "image/png": "[encoded data removed]",
      "text/plain": [
       "<Figure size 432x288 with 1 Axes>"
      ]
     },
     "metadata": {
      "needs_background": "light"
     },
     "output_type": "display_data"
    }
   ],
   "source": [
    "# 显示最终合适得num_leaves(30)\n",
    "print(-grid_search.best_score_)\n",
    "print(grid_search.best_params_)\n",
    "test_means = grid_search.cv_results_[\"mean_test_score\"]\n",
    "test_stds = grid_search.cv_results_[\"std_test_score\"]\n",
    "train_means = grid_search.cv_results_[\"mean_train_score\"]\n",
    "train_stds = grid_search.cv_results_[\"std_train_score\"]\n",
    "\n",
    "n_leafs = len(num_leaves_s)\n",
    "X_axis = num_leaves_s\n",
    "plt.plot(X_axis, -test_means)\n",
    "\n",
    "plt.xlabel(\"num_leaves\")\n",
    "plt.ylabel(\"Log Loss\")\n",
    "plt.show()"
   ]
  },
  {
   "cell_type": "markdown",
   "metadata": {},
   "source": [
    "叶子节点的最小样本数目  \n",
    "叶子节点数目:30,共2类，平均每类40个叶子节点  \n",
    "每棵树的样本数目最少的类(稀有事件)的样本数目:5000(最小样本数目)*2/3(3折交叉验证)*0.7(subsample)=2333\n",
    "所以每个叶子节点2300/30 = 70个样本点\n",
    "搜索范围 10~100"
   ]
  },
  {
   "cell_type": "code",
   "execution_count": 12,
   "metadata": {},
   "outputs": [
    {
     "name": "stdout",
     "output_type": "stream",
     "text": [
      "Fitting 3 folds for each of 7 candidates, totalling 21 fits\n"
     ]
    },
    {
     "name": "stderr",
     "output_type": "stream",
     "text": [
      "[Parallel(n_jobs=8)]: Using backend LokyBackend with 8 concurrent workers.\n",
      "[Parallel(n_jobs=8)]: Done   2 tasks      | elapsed:    4.4s\n",
      "[Parallel(n_jobs=8)]: Done  11 out of  21 | elapsed:    6.9s remaining:    6.3s\n",
      "[Parallel(n_jobs=8)]: Done  16 out of  21 | elapsed:    8.3s remaining:    2.5s\n",
      "[Parallel(n_jobs=8)]: Done  21 out of  21 | elapsed:    9.2s remaining:    0.0s\n",
      "[Parallel(n_jobs=8)]: Done  21 out of  21 | elapsed:    9.2s finished\n"
     ]
    },
    {
     "data": {
      "text/plain": [
       "GridSearchCV(cv=StratifiedKFold(n_splits=3, random_state=3, shuffle=True),\n",
       "       error_score='raise-deprecating',\n",
       "       estimator=LGBMClassifier(bagging_freq=1, boosting_type='gbdt', class_weight=None,\n",
       "        colsample_bytree=0.7, importance_type='split', learning_rate=0.1,\n",
       "        max_bin=127, max_depth=7, min_child_samples=20,\n",
       "        min_child_weight=0.001, min_split_gain=0.0, n_estimators=43,\n",
       "        n_jobs=8, num_leaves=30, objective='binary', random_state=None,\n",
       "        reg_alpha=0.0, reg_lambda=0.0, silent=False, subsample=0.7,\n",
       "        subsample_for_bin=200000, subsample_freq=0),\n",
       "       fit_params=None, iid='warn', n_jobs=8,\n",
       "       param_grid={'min_child_samples': range(60, 130, 10)},\n",
       "       pre_dispatch='2*n_jobs', refit=False, return_train_score='warn',\n",
       "       scoring='neg_log_loss', verbose=5)"
      ]
     },
     "execution_count": 12,
     "metadata": {},
     "output_type": "execute_result"
    }
   ],
   "source": [
    "# 调整min_child_sample的参数(100)\n",
    "params = {\"boosting_type\":\"gbdt\", \"objective\":\"binary\", \"num_leaves\":30, \n",
    "        \"n_jobs\":8, \"learning_rate\":0.1, \"n_estimators\":n_estimators_1, \"max_depth\":7,\n",
    "        \"max_bin\":127, \"subsample\":0.7, \"bagging_freq\":1, \"colsample_bytree\":0.7}\n",
    "\n",
    "lg = LGBMClassifier(silent=False, **params)\n",
    "min_child_samples = range(60, 130, 10)\n",
    "tuned_parameters = dict(min_child_samples=min_child_samples)\n",
    "\n",
    "grid_search = GridSearchCV(lg, n_jobs=8, param_grid=tuned_parameters, cv = kfold,\n",
    "                           scoring='neg_log_loss', verbose=5, refit=False)\n",
    "grid_search.fit(X_train, y_train)"
   ]
  },
  {
   "cell_type": "code",
   "execution_count": 13,
   "metadata": {},
   "outputs": [
    {
     "name": "stdout",
     "output_type": "stream",
     "text": [
      "0.06440778436266455\n",
      "{'min_child_samples': 100}\n"
     ]
    },
    {
     "name": "stderr",
     "output_type": "stream",
     "text": [
      "D:\\Anaconda3\\lib\\site-packages\\sklearn\\utils\\deprecation.py:125: FutureWarning: You are accessing a training score ('mean_train_score'), which will not be available by default any more in 0.21. If you need training scores, please set return_train_score=True\n",
      "  warnings.warn(*warn_args, **warn_kwargs)\n",
      "D:\\Anaconda3\\lib\\site-packages\\sklearn\\utils\\deprecation.py:125: FutureWarning: You are accessing a training score ('std_train_score'), which will not be available by default any more in 0.21. If you need training scores, please set return_train_score=True\n",
      "  warnings.warn(*warn_args, **warn_kwargs)\n"
     ]
    },
    {
     "data": {
      "image/png": "[encoded data removed]",
      "text/plain": [
       "<Figure size 432x288 with 1 Axes>"
      ]
     },
     "metadata": {
      "needs_background": "light"
     },
     "output_type": "display_data"
    }
   ],
   "source": [
    "# 显示min_child_sample cv误差曲线\n",
    "print(-grid_search.best_score_)\n",
    "print(grid_search.best_params_)\n",
    "\n",
    "test_means = grid_search.cv_results_[\"mean_test_score\"]\n",
    "test_stds = grid_search.cv_results_[\"std_test_score\"]\n",
    "train_means = grid_search.cv_results_[\"mean_train_score\"]\n",
    "train_stds = grid_search.cv_results_[\"std_train_score\"]\n",
    "\n",
    "X_axis = min_child_samples\n",
    "plt.plot(X_axis, -test_means)\n",
    "plt.show()"
   ]
  },
  {
   "cell_type": "code",
   "execution_count": 14,
   "metadata": {},
   "outputs": [
    {
     "name": "stderr",
     "output_type": "stream",
     "text": [
      "[Parallel(n_jobs=8)]: Using backend LokyBackend with 8 concurrent workers.\n"
     ]
    },
    {
     "name": "stdout",
     "output_type": "stream",
     "text": [
      "Fitting 3 folds for each of 5 candidates, totalling 15 fits\n"
     ]
    },
    {
     "name": "stderr",
     "output_type": "stream",
     "text": [
      "[Parallel(n_jobs=8)]: Done   4 out of  15 | elapsed:    2.1s remaining:    5.9s\n",
      "[Parallel(n_jobs=8)]: Done   8 out of  15 | elapsed:    3.0s remaining:    2.6s\n",
      "[Parallel(n_jobs=8)]: Done  12 out of  15 | elapsed:    4.3s remaining:    1.0s\n",
      "[Parallel(n_jobs=8)]: Done  15 out of  15 | elapsed:    4.7s finished\n"
     ]
    },
    {
     "data": {
      "text/plain": [
       "GridSearchCV(cv=StratifiedKFold(n_splits=3, random_state=3, shuffle=True),\n",
       "       error_score='raise-deprecating',\n",
       "       estimator=LGBMClassifier(bagging_freq=1, boosting_type='gbdt', class_weight=None,\n",
       "        colsample_bytree=0.7, importance_type='split', learning_rate=0.1,\n",
       "        max_bin=127, max_depth=7, min_child_samples=100,\n",
       "        min_child_weight=0.001, min_split_gain=0.0, n_estimators=43,\n",
       "        n_jobs=8, num_leaves=30, objective='binary', random_state=None,\n",
       "        reg_alpha=0.0, reg_lambda=0.0, silent=False, subsample=1.0,\n",
       "        subsample_for_bin=200000, subsample_freq=0),\n",
       "       fit_params=None, iid='warn', n_jobs=8,\n",
       "       param_grid={'subsample': [0.5, 0.6, 0.7, 0.8, 0.9]},\n",
       "       pre_dispatch='2*n_jobs', refit=False, return_train_score='warn',\n",
       "       scoring='neg_log_loss', verbose=5)"
      ]
     },
     "execution_count": 14,
     "metadata": {},
     "output_type": "execute_result"
    }
   ],
   "source": [
    "# 调试参数sub_sample/bagging_fraction(0.7)\n",
    "params = {\"boosting_type\":\"gbdt\", \"objective\":\"binary\", \"num_leaves\":30, \n",
    "        \"n_jobs\":8, \"learning_rate\":0.1, \"n_estimators\":n_estimators_1, \"max_depth\":7,\n",
    "        \"max_bin\":127, \"min_child_samples\":100, \"bagging_freq\":1, \"colsample_bytree\":0.7}\n",
    "\n",
    "lg = LGBMClassifier(silent=False, **params)\n",
    "subsample_s = [i/10.0 for i in range(5,10)]\n",
    "tuned_parameters = dict(subsample = subsample_s)\n",
    "\n",
    "grid_search = GridSearchCV(lg, n_jobs=8, param_grid=tuned_parameters, cv=kfold,\n",
    "                        scoring=\"neg_log_loss\", verbose=5, refit=False)\n",
    "grid_search.fit(X_train, y_train)"
   ]
  },
  {
   "cell_type": "code",
   "execution_count": 15,
   "metadata": {},
   "outputs": [
    {
     "name": "stdout",
     "output_type": "stream",
     "text": [
      "0.06440778436266455\n",
      "{'subsample': 0.7}\n"
     ]
    },
    {
     "name": "stderr",
     "output_type": "stream",
     "text": [
      "D:\\Anaconda3\\lib\\site-packages\\sklearn\\utils\\deprecation.py:125: FutureWarning: You are accessing a training score ('mean_train_score'), which will not be available by default any more in 0.21. If you need training scores, please set return_train_score=True\n",
      "  warnings.warn(*warn_args, **warn_kwargs)\n",
      "D:\\Anaconda3\\lib\\site-packages\\sklearn\\utils\\deprecation.py:125: FutureWarning: You are accessing a training score ('std_train_score'), which will not be available by default any more in 0.21. If you need training scores, please set return_train_score=True\n",
      "  warnings.warn(*warn_args, **warn_kwargs)\n"
     ]
    },
    {
     "data": {
      "image/png": "[encoded data removed]",
      "text/plain": [
       "<Figure size 432x288 with 1 Axes>"
      ]
     },
     "metadata": {
      "needs_background": "light"
     },
     "output_type": "display_data"
    }
   ],
   "source": [
    "# 显示subsample cv的误差曲线\n",
    "print(-grid_search.best_score_)\n",
    "print(grid_search.best_params_)\n",
    "\n",
    "test_means = grid_search.cv_results_[\"mean_test_score\"]\n",
    "test_stds = grid_search.cv_results_[\"std_test_score\"]\n",
    "train_means = grid_search.cv_results_[\"mean_train_score\"]\n",
    "train_stds = grid_search.cv_results_[\"std_train_score\"]\n",
    "\n",
    "X_axis = subsample_s\n",
    "plt.plot(X_axis, -test_means)\n",
    "plt.show()"
   ]
  },
  {
   "cell_type": "code",
   "execution_count": 16,
   "metadata": {},
   "outputs": [
    {
     "name": "stderr",
     "output_type": "stream",
     "text": [
      "[Parallel(n_jobs=8)]: Using backend LokyBackend with 8 concurrent workers.\n"
     ]
    },
    {
     "name": "stdout",
     "output_type": "stream",
     "text": [
      "Fitting 3 folds for each of 5 candidates, totalling 15 fits\n"
     ]
    },
    {
     "name": "stderr",
     "output_type": "stream",
     "text": [
      "[Parallel(n_jobs=8)]: Done   4 out of  15 | elapsed:    1.8s remaining:    5.2s\n",
      "[Parallel(n_jobs=8)]: Done   8 out of  15 | elapsed:    2.7s remaining:    2.4s\n",
      "[Parallel(n_jobs=8)]: Done  12 out of  15 | elapsed:    4.2s remaining:    1.0s\n",
      "[Parallel(n_jobs=8)]: Done  15 out of  15 | elapsed:    4.5s finished\n"
     ]
    },
    {
     "data": {
      "text/plain": [
       "GridSearchCV(cv=StratifiedKFold(n_splits=3, random_state=3, shuffle=True),\n",
       "       error_score='raise-deprecating',\n",
       "       estimator=LGBMClassifier(bagging_freq=1, boosting_type='gbdt', class_weight=None,\n",
       "        colsample_bytree=1.0, importance_type='split', learning_rate=0.1,\n",
       "        max_bin=127, max_depth=7, min_child_samples=100,\n",
       "        min_child_weight=0.001, min_split_gain=0.0, n_estimators=43,\n",
       "        n_jobs=8, num_leaves=30, objective='binary', random_state=None,\n",
       "        reg_alpha=0.0, reg_lambda=0.0, silent=False, subsample=0.7,\n",
       "        subsample_for_bin=200000, subsample_freq=0),\n",
       "       fit_params=None, iid='warn', n_jobs=8,\n",
       "       param_grid={'colsample_bytree': [0.5, 0.6, 0.7, 0.8, 0.9]},\n",
       "       pre_dispatch='2*n_jobs', refit=False, return_train_score='warn',\n",
       "       scoring='neg_log_loss', verbose=5)"
      ]
     },
     "execution_count": 16,
     "metadata": {},
     "output_type": "execute_result"
    }
   ],
   "source": [
    "# 调试参数sub_feature/feature_fraction/colsample_bytree(0.7)\n",
    "params = {\"boosting_type\":\"gbdt\", \"objective\":\"binary\", \"num_leaves\":30, \n",
    "        \"n_jobs\":8, \"learning_rate\":0.1, \"n_estimators\":n_estimators_1, \"max_depth\":7,\n",
    "        \"max_bin\":127, \"min_child_samples\":100, \"bagging_freq\":1, \"subsample\":0.7}\n",
    "\n",
    "lg = LGBMClassifier(silent=False, **params)\n",
    "colsample_bytree = [i/10.0 for i in range(5, 10)]\n",
    "tuned_parameters = dict(colsample_bytree=colsample_bytree)\n",
    "\n",
    "grid_search = GridSearchCV(lg, n_jobs=8, param_grid=tuned_parameters, cv=kfold,\n",
    "                        scoring=\"neg_log_loss\", verbose=5, refit=False)\n",
    "grid_search.fit(X_train, y_train)"
   ]
  },
  {
   "cell_type": "code",
   "execution_count": 17,
   "metadata": {},
   "outputs": [
    {
     "name": "stdout",
     "output_type": "stream",
     "text": [
      "0.06440778436266455\n",
      "{'colsample_bytree': 0.7}\n"
     ]
    },
    {
     "name": "stderr",
     "output_type": "stream",
     "text": [
      "D:\\Anaconda3\\lib\\site-packages\\sklearn\\utils\\deprecation.py:125: FutureWarning: You are accessing a training score ('mean_train_score'), which will not be available by default any more in 0.21. If you need training scores, please set return_train_score=True\n",
      "  warnings.warn(*warn_args, **warn_kwargs)\n",
      "D:\\Anaconda3\\lib\\site-packages\\sklearn\\utils\\deprecation.py:125: FutureWarning: You are accessing a training score ('std_train_score'), which will not be available by default any more in 0.21. If you need training scores, please set return_train_score=True\n",
      "  warnings.warn(*warn_args, **warn_kwargs)\n"
     ]
    },
    {
     "data": {
      "image/png": "[encoded data removed]",
      "text/plain": [
       "<Figure size 432x288 with 1 Axes>"
      ]
     },
     "metadata": {
      "needs_background": "light"
     },
     "output_type": "display_data"
    }
   ],
   "source": [
    "print(-grid_search.best_score_)\n",
    "print(grid_search.best_params_)\n",
    "\n",
    "test_means = grid_search.cv_results_[ 'mean_test_score' ]\n",
    "test_stds = grid_search.cv_results_[ 'std_test_score' ]\n",
    "train_means = grid_search.cv_results_[ 'mean_train_score' ]\n",
    "train_stds = grid_search.cv_results_[ 'std_train_score' ]\n",
    "\n",
    "x_axis = colsample_bytree\n",
    "plt.plot(x_axis, -test_means)\n",
    "plt.show()"
   ]
  },
  {
   "cell_type": "code",
   "execution_count": 18,
   "metadata": {},
   "outputs": [
    {
     "name": "stdout",
     "output_type": "stream",
     "text": [
      "best n_estimators: 403\n",
      "best cv score: 0.06382328101618401\n"
     ]
    }
   ],
   "source": [
    "# 减少学习率，调整n_estimators\n",
    "params = {\"boosting_type\":\"gbdt\", \"objective\":\"binary\", \"num_leaves\":30, \n",
    "        \"n_jobs\":8, \"learning_rate\":0.01,  \"max_depth\":7, #'n_estimators':n_estimators_1,\n",
    "        \"max_bin\":127, \"min_child_samples\":100, \"bagging_freq\":1, \"subsample\":0.7}\n",
    "\n",
    "n_estimators_2 = get_n_estimators(params , X_train , y_train)"
   ]
  },
  {
   "cell_type": "code",
   "execution_count": 19,
   "metadata": {},
   "outputs": [
    {
     "data": {
      "text/plain": [
       "LGBMClassifier(bagging_freq=1, boosting_type='gbdt', class_weight=None,\n",
       "        colsample_bytree=1.0, importance_type='split', learning_rate=0.01,\n",
       "        max_bin=127, max_depth=7, min_child_samples=100,\n",
       "        min_child_weight=0.001, min_split_gain=0.0, n_estimators=403,\n",
       "        n_jobs=8, num_leaves=30, objective='binary', random_state=None,\n",
       "        reg_alpha=0.0, reg_lambda=0.0, silent=False, subsample=0.7,\n",
       "        subsample_for_bin=200000, subsample_freq=0)"
      ]
     },
     "execution_count": 19,
     "metadata": {},
     "output_type": "execute_result"
    }
   ],
   "source": [
    "params = {\"boosting_type\":\"gbdt\", \"objective\":\"binary\", \"num_leaves\":30, \n",
    "        \"n_jobs\":8, \"learning_rate\":0.01,  \"max_depth\":7, 'n_estimators':n_estimators_2,\n",
    "        \"max_bin\":127, \"min_child_samples\":100, \"bagging_freq\":1, \"subsample\":0.7}\n",
    "\n",
    "lg = LGBMClassifier(silent=False,  **params)\n",
    "lg.fit(X_train, y_train)"
   ]
  },
  {
   "cell_type": "code",
   "execution_count": 20,
   "metadata": {},
   "outputs": [],
   "source": [
    "# 存储特征\n",
    "import pickle\n",
    "pickle.dump(lg, open(dpath+\"HappyBank_LGBM.pkl\", \"wb\"))\n",
    "pickle.dump(LE, open(dpath+\"HappyBank_LabEn.pkl\", \"wb\"))"
   ]
  },
  {
   "cell_type": "code",
   "execution_count": 21,
   "metadata": {},
   "outputs": [
    {
     "name": "stderr",
     "output_type": "stream",
     "text": [
      "D:\\Anaconda3\\lib\\site-packages\\ipykernel_launcher.py:4: FutureWarning: Series.data is deprecated and will be removed in a future version\n",
      "  after removing the cwd from sys.path.\n"
     ]
    },
    {
     "data": {
      "image/png": "[encoded data removed]",
      "text/plain": [
       "<Figure size 432x288 with 1 Axes>"
      ]
     },
     "metadata": {
      "needs_background": "light"
     },
     "output_type": "display_data"
    },
    {
     "data": {
      "text/plain": [
       "<Figure size 936x432 with 0 Axes>"
      ]
     },
     "metadata": {},
     "output_type": "display_data"
    }
   ],
   "source": [
    "# 输出特征重要性\n",
    "# 使用pd.Series进行组合，值是特征重要性的值，index是样本特征，.sort_value 进行排序操作\n",
    "feature_important = pd.Series(lg.feature_importances_, index = X_train.columns).sort_values(ascending=False)\n",
    "plt.bar(feature_important.index, feature_important.data)\n",
    "plt.figure(figsize=(13, 6))\n",
    "plt.show()"
   ]
  }
 ],
 "metadata": {
  "kernelspec": {
   "display_name": "Python 3",
   "language": "python",
   "name": "python3"
  },
  "language_info": {
   "codemirror_mode": {
    "name": "ipython",
    "version": 3
   },
   "file_extension": ".py",
   "mimetype": "text/x-python",
   "name": "python",
   "nbconvert_exporter": "python",
   "pygments_lexer": "ipython3",
   "version": "3.7.3"
  }
 },
 "nbformat": 4,
 "nbformat_minor": 2
}
